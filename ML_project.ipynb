{
  "cells": [
    {
      "cell_type": "markdown",
      "metadata": {
        "id": "view-in-github",
        "colab_type": "text"
      },
      "source": [
        "<a href=\"https://colab.research.google.com/github/Vishnutha/ML_Project/blob/main/ML_project.ipynb\" target=\"_parent\"><img src=\"https://colab.research.google.com/assets/colab-badge.svg\" alt=\"Open In Colab\"/></a>"
      ]
    },
    {
      "cell_type": "markdown",
      "metadata": {
        "id": "Shfec4ueMWRz"
      },
      "source": [
        "# FastHeal Malware Prediction"
      ]
    },
    {
      "cell_type": "markdown",
      "source": [
        "##Importing required libraries"
      ],
      "metadata": {
        "id": "zxLIvk_TdahJ"
      }
    },
    {
      "cell_type": "code",
      "execution_count": null,
      "metadata": {
        "colab": {
          "base_uri": "https://localhost:8080/"
        },
        "id": "wo809CQT2PoO",
        "outputId": "75919636-34ca-4a68-e6d7-e88ba9ae07d7"
      },
      "outputs": [
        {
          "output_type": "stream",
          "name": "stdout",
          "text": [
            "Mounted at /content/drive\n"
          ]
        }
      ],
      "source": [
        "from google.colab import drive\n",
        "drive.mount('/content/drive')"
      ]
    },
    {
      "cell_type": "code",
      "execution_count": null,
      "metadata": {
        "id": "jgUOxhScHmxU"
      },
      "outputs": [],
      "source": [
        "from sklearn import preprocessing"
      ]
    },
    {
      "cell_type": "code",
      "execution_count": null,
      "metadata": {
        "id": "oshCEa71IjRV"
      },
      "outputs": [],
      "source": [
        "from numpy import *\n",
        "import math\n",
        "import pandas as pd\n",
        "import matplotlib as plt\n",
        "from google.colab import files\n",
        "import dask\n",
        "import dask.dataframe as dd\n",
        "import warnings\n",
        "import numpy as np\n",
        "import gc\n",
        "import seaborn as sns\n",
        "import lightgbm as lgb\n",
        "import matplotlib.pyplot as plt\n",
        "from sklearn.metrics import f1_score\n",
        "from sklearn.metrics import accuracy_score\n",
        "from sklearn.metrics import mean_squared_error\n",
        "from sklearn.preprocessing import LabelEncoder\n",
        "from sklearn.model_selection import train_test_split\n",
        "from sklearn.metrics import confusion_matrix, classification_report\n"
      ]
    },
    {
      "cell_type": "code",
      "execution_count": null,
      "metadata": {
        "id": "vC_71k1g5RB9"
      },
      "outputs": [],
      "source": [
        "# libraries for the files in google drive\n",
        "from pydrive.auth import GoogleAuth\n",
        "from google.colab import drive\n",
        "from pydrive.drive import GoogleDrive\n",
        "from google.colab import auth\n",
        "from oauth2client.client import GoogleCredentials"
      ]
    },
    {
      "cell_type": "markdown",
      "source": [
        "##Reading train and test data from google drive"
      ],
      "metadata": {
        "id": "IgR0-nKZducG"
      }
    },
    {
      "cell_type": "code",
      "execution_count": null,
      "metadata": {
        "id": "g22cNd9h5ogc"
      },
      "outputs": [],
      "source": [
        "auth.authenticate_user()\n",
        "gauth = GoogleAuth()\n",
        "gauth.credentials = GoogleCredentials.get_application_default()\n",
        "drive = GoogleDrive(gauth)\n",
        "file_id = '1qOwvhFXPkbd9yRYcNqdMkrTMVGfruZnj'\n",
        "download = drive.CreateFile({'id': file_id})\n",
        "download.GetContentFile('train.csv')"
      ]
    },
    {
      "cell_type": "code",
      "execution_count": null,
      "metadata": {
        "id": "tyaw0lamJ6tP"
      },
      "outputs": [],
      "source": [
        "train_df  = pd.read_csv(\"train.csv\",low_memory = False)"
      ]
    },
    {
      "cell_type": "code",
      "execution_count": null,
      "metadata": {
        "colab": {
          "base_uri": "https://localhost:8080/",
          "height": 317
        },
        "id": "grGZ_hLUIeAe",
        "outputId": "b9f2849c-c942-434e-d252-70b88d4f397c"
      },
      "outputs": [
        {
          "output_type": "execute_result",
          "data": {
            "text/plain": [
              "   Unnamed: 0  MachineIdentifier   ProductName EngineVersion       AppVersion  \\\n",
              "0     6123525            6123525  win8defender   1.1.15200.1  4.18.1807.18075   \n",
              "1     6557910            6557910  win8defender   1.1.15100.1    4.9.10586.672   \n",
              "2     2134897            2134897  win8defender   1.1.15200.1  4.18.1807.18075   \n",
              "3     3368859            3368859  win8defender   1.1.15100.1  4.18.1807.18075   \n",
              "4     3354858            3354858  win8defender   1.1.15200.1  4.18.1807.18075   \n",
              "\n",
              "   AvSigVersion  IsBeta  RtpStateBitfield  IsSxsPassiveMode  \\\n",
              "0  1.275.1429.0       0               7.0                 0   \n",
              "1   1.273.995.0       0               7.0                 0   \n",
              "2  1.275.1730.0       0               7.0                 0   \n",
              "3  1.273.1552.0       0               7.0                 0   \n",
              "4   1.275.876.0       0               7.0                 0   \n",
              "\n",
              "   DefaultBrowsersIdentifier  ...  Census_FirmwareManufacturerIdentifier  \\\n",
              "0                        NaN  ...                                  512.0   \n",
              "1                        NaN  ...                                  355.0   \n",
              "2                        NaN  ...                                  355.0   \n",
              "3                        NaN  ...                                  677.0   \n",
              "4                        NaN  ...                                  142.0   \n",
              "\n",
              "   Census_FirmwareVersionIdentifier  Census_IsSecureBootEnabled  \\\n",
              "0                           63175.0                           0   \n",
              "1                           19951.0                           0   \n",
              "2                            7426.0                           1   \n",
              "3                            8156.0                           1   \n",
              "4                           41834.0                           1   \n",
              "\n",
              "   Census_IsWIMBootEnabled  Census_IsVirtualDevice  Census_IsTouchEnabled  \\\n",
              "0                      0.0                     0.0                      0   \n",
              "1                      0.0                     0.0                      0   \n",
              "2                      NaN                     0.0                      0   \n",
              "3                      NaN                     0.0                      1   \n",
              "4                      0.0                     0.0                      0   \n",
              "\n",
              "   Census_IsPenCapable  Census_IsAlwaysOnAlwaysConnectedCapable  Wdft_IsGamer  \\\n",
              "0                    0                                      0.0           0.0   \n",
              "1                    0                                      0.0           0.0   \n",
              "2                    0                                      0.0           0.0   \n",
              "3                    1                                      1.0           0.0   \n",
              "4                    0                                      0.0           0.0   \n",
              "\n",
              "  Wdft_RegionIdentifier  \n",
              "0                   1.0  \n",
              "1                  11.0  \n",
              "2                  11.0  \n",
              "3                  15.0  \n",
              "4                   7.0  \n",
              "\n",
              "[5 rows x 83 columns]"
            ],
            "text/html": [
              "\n",
              "  <div id=\"df-4bc72fbd-2676-4adb-9d0c-c2853bcaec02\">\n",
              "    <div class=\"colab-df-container\">\n",
              "      <div>\n",
              "<style scoped>\n",
              "    .dataframe tbody tr th:only-of-type {\n",
              "        vertical-align: middle;\n",
              "    }\n",
              "\n",
              "    .dataframe tbody tr th {\n",
              "        vertical-align: top;\n",
              "    }\n",
              "\n",
              "    .dataframe thead th {\n",
              "        text-align: right;\n",
              "    }\n",
              "</style>\n",
              "<table border=\"1\" class=\"dataframe\">\n",
              "  <thead>\n",
              "    <tr style=\"text-align: right;\">\n",
              "      <th></th>\n",
              "      <th>Unnamed: 0</th>\n",
              "      <th>MachineIdentifier</th>\n",
              "      <th>ProductName</th>\n",
              "      <th>EngineVersion</th>\n",
              "      <th>AppVersion</th>\n",
              "      <th>AvSigVersion</th>\n",
              "      <th>IsBeta</th>\n",
              "      <th>RtpStateBitfield</th>\n",
              "      <th>IsSxsPassiveMode</th>\n",
              "      <th>DefaultBrowsersIdentifier</th>\n",
              "      <th>...</th>\n",
              "      <th>Census_FirmwareManufacturerIdentifier</th>\n",
              "      <th>Census_FirmwareVersionIdentifier</th>\n",
              "      <th>Census_IsSecureBootEnabled</th>\n",
              "      <th>Census_IsWIMBootEnabled</th>\n",
              "      <th>Census_IsVirtualDevice</th>\n",
              "      <th>Census_IsTouchEnabled</th>\n",
              "      <th>Census_IsPenCapable</th>\n",
              "      <th>Census_IsAlwaysOnAlwaysConnectedCapable</th>\n",
              "      <th>Wdft_IsGamer</th>\n",
              "      <th>Wdft_RegionIdentifier</th>\n",
              "    </tr>\n",
              "  </thead>\n",
              "  <tbody>\n",
              "    <tr>\n",
              "      <th>0</th>\n",
              "      <td>6123525</td>\n",
              "      <td>6123525</td>\n",
              "      <td>win8defender</td>\n",
              "      <td>1.1.15200.1</td>\n",
              "      <td>4.18.1807.18075</td>\n",
              "      <td>1.275.1429.0</td>\n",
              "      <td>0</td>\n",
              "      <td>7.0</td>\n",
              "      <td>0</td>\n",
              "      <td>NaN</td>\n",
              "      <td>...</td>\n",
              "      <td>512.0</td>\n",
              "      <td>63175.0</td>\n",
              "      <td>0</td>\n",
              "      <td>0.0</td>\n",
              "      <td>0.0</td>\n",
              "      <td>0</td>\n",
              "      <td>0</td>\n",
              "      <td>0.0</td>\n",
              "      <td>0.0</td>\n",
              "      <td>1.0</td>\n",
              "    </tr>\n",
              "    <tr>\n",
              "      <th>1</th>\n",
              "      <td>6557910</td>\n",
              "      <td>6557910</td>\n",
              "      <td>win8defender</td>\n",
              "      <td>1.1.15100.1</td>\n",
              "      <td>4.9.10586.672</td>\n",
              "      <td>1.273.995.0</td>\n",
              "      <td>0</td>\n",
              "      <td>7.0</td>\n",
              "      <td>0</td>\n",
              "      <td>NaN</td>\n",
              "      <td>...</td>\n",
              "      <td>355.0</td>\n",
              "      <td>19951.0</td>\n",
              "      <td>0</td>\n",
              "      <td>0.0</td>\n",
              "      <td>0.0</td>\n",
              "      <td>0</td>\n",
              "      <td>0</td>\n",
              "      <td>0.0</td>\n",
              "      <td>0.0</td>\n",
              "      <td>11.0</td>\n",
              "    </tr>\n",
              "    <tr>\n",
              "      <th>2</th>\n",
              "      <td>2134897</td>\n",
              "      <td>2134897</td>\n",
              "      <td>win8defender</td>\n",
              "      <td>1.1.15200.1</td>\n",
              "      <td>4.18.1807.18075</td>\n",
              "      <td>1.275.1730.0</td>\n",
              "      <td>0</td>\n",
              "      <td>7.0</td>\n",
              "      <td>0</td>\n",
              "      <td>NaN</td>\n",
              "      <td>...</td>\n",
              "      <td>355.0</td>\n",
              "      <td>7426.0</td>\n",
              "      <td>1</td>\n",
              "      <td>NaN</td>\n",
              "      <td>0.0</td>\n",
              "      <td>0</td>\n",
              "      <td>0</td>\n",
              "      <td>0.0</td>\n",
              "      <td>0.0</td>\n",
              "      <td>11.0</td>\n",
              "    </tr>\n",
              "    <tr>\n",
              "      <th>3</th>\n",
              "      <td>3368859</td>\n",
              "      <td>3368859</td>\n",
              "      <td>win8defender</td>\n",
              "      <td>1.1.15100.1</td>\n",
              "      <td>4.18.1807.18075</td>\n",
              "      <td>1.273.1552.0</td>\n",
              "      <td>0</td>\n",
              "      <td>7.0</td>\n",
              "      <td>0</td>\n",
              "      <td>NaN</td>\n",
              "      <td>...</td>\n",
              "      <td>677.0</td>\n",
              "      <td>8156.0</td>\n",
              "      <td>1</td>\n",
              "      <td>NaN</td>\n",
              "      <td>0.0</td>\n",
              "      <td>1</td>\n",
              "      <td>1</td>\n",
              "      <td>1.0</td>\n",
              "      <td>0.0</td>\n",
              "      <td>15.0</td>\n",
              "    </tr>\n",
              "    <tr>\n",
              "      <th>4</th>\n",
              "      <td>3354858</td>\n",
              "      <td>3354858</td>\n",
              "      <td>win8defender</td>\n",
              "      <td>1.1.15200.1</td>\n",
              "      <td>4.18.1807.18075</td>\n",
              "      <td>1.275.876.0</td>\n",
              "      <td>0</td>\n",
              "      <td>7.0</td>\n",
              "      <td>0</td>\n",
              "      <td>NaN</td>\n",
              "      <td>...</td>\n",
              "      <td>142.0</td>\n",
              "      <td>41834.0</td>\n",
              "      <td>1</td>\n",
              "      <td>0.0</td>\n",
              "      <td>0.0</td>\n",
              "      <td>0</td>\n",
              "      <td>0</td>\n",
              "      <td>0.0</td>\n",
              "      <td>0.0</td>\n",
              "      <td>7.0</td>\n",
              "    </tr>\n",
              "  </tbody>\n",
              "</table>\n",
              "<p>5 rows × 83 columns</p>\n",
              "</div>\n",
              "      <button class=\"colab-df-convert\" onclick=\"convertToInteractive('df-4bc72fbd-2676-4adb-9d0c-c2853bcaec02')\"\n",
              "              title=\"Convert this dataframe to an interactive table.\"\n",
              "              style=\"display:none;\">\n",
              "        \n",
              "  <svg xmlns=\"http://www.w3.org/2000/svg\" height=\"24px\"viewBox=\"0 0 24 24\"\n",
              "       width=\"24px\">\n",
              "    <path d=\"M0 0h24v24H0V0z\" fill=\"none\"/>\n",
              "    <path d=\"M18.56 5.44l.94 2.06.94-2.06 2.06-.94-2.06-.94-.94-2.06-.94 2.06-2.06.94zm-11 1L8.5 8.5l.94-2.06 2.06-.94-2.06-.94L8.5 2.5l-.94 2.06-2.06.94zm10 10l.94 2.06.94-2.06 2.06-.94-2.06-.94-.94-2.06-.94 2.06-2.06.94z\"/><path d=\"M17.41 7.96l-1.37-1.37c-.4-.4-.92-.59-1.43-.59-.52 0-1.04.2-1.43.59L10.3 9.45l-7.72 7.72c-.78.78-.78 2.05 0 2.83L4 21.41c.39.39.9.59 1.41.59.51 0 1.02-.2 1.41-.59l7.78-7.78 2.81-2.81c.8-.78.8-2.07 0-2.86zM5.41 20L4 18.59l7.72-7.72 1.47 1.35L5.41 20z\"/>\n",
              "  </svg>\n",
              "      </button>\n",
              "      \n",
              "  <style>\n",
              "    .colab-df-container {\n",
              "      display:flex;\n",
              "      flex-wrap:wrap;\n",
              "      gap: 12px;\n",
              "    }\n",
              "\n",
              "    .colab-df-convert {\n",
              "      background-color: #E8F0FE;\n",
              "      border: none;\n",
              "      border-radius: 50%;\n",
              "      cursor: pointer;\n",
              "      display: none;\n",
              "      fill: #1967D2;\n",
              "      height: 32px;\n",
              "      padding: 0 0 0 0;\n",
              "      width: 32px;\n",
              "    }\n",
              "\n",
              "    .colab-df-convert:hover {\n",
              "      background-color: #E2EBFA;\n",
              "      box-shadow: 0px 1px 2px rgba(60, 64, 67, 0.3), 0px 1px 3px 1px rgba(60, 64, 67, 0.15);\n",
              "      fill: #174EA6;\n",
              "    }\n",
              "\n",
              "    [theme=dark] .colab-df-convert {\n",
              "      background-color: #3B4455;\n",
              "      fill: #D2E3FC;\n",
              "    }\n",
              "\n",
              "    [theme=dark] .colab-df-convert:hover {\n",
              "      background-color: #434B5C;\n",
              "      box-shadow: 0px 1px 3px 1px rgba(0, 0, 0, 0.15);\n",
              "      filter: drop-shadow(0px 1px 2px rgba(0, 0, 0, 0.3));\n",
              "      fill: #FFFFFF;\n",
              "    }\n",
              "  </style>\n",
              "\n",
              "      <script>\n",
              "        const buttonEl =\n",
              "          document.querySelector('#df-4bc72fbd-2676-4adb-9d0c-c2853bcaec02 button.colab-df-convert');\n",
              "        buttonEl.style.display =\n",
              "          google.colab.kernel.accessAllowed ? 'block' : 'none';\n",
              "\n",
              "        async function convertToInteractive(key) {\n",
              "          const element = document.querySelector('#df-4bc72fbd-2676-4adb-9d0c-c2853bcaec02');\n",
              "          const dataTable =\n",
              "            await google.colab.kernel.invokeFunction('convertToInteractive',\n",
              "                                                     [key], {});\n",
              "          if (!dataTable) return;\n",
              "\n",
              "          const docLinkHtml = 'Like what you see? Visit the ' +\n",
              "            '<a target=\"_blank\" href=https://colab.research.google.com/notebooks/data_table.ipynb>data table notebook</a>'\n",
              "            + ' to learn more about interactive tables.';\n",
              "          element.innerHTML = '';\n",
              "          dataTable['output_type'] = 'display_data';\n",
              "          await google.colab.output.renderOutput(dataTable, element);\n",
              "          const docLink = document.createElement('div');\n",
              "          docLink.innerHTML = docLinkHtml;\n",
              "          element.appendChild(docLink);\n",
              "        }\n",
              "      </script>\n",
              "    </div>\n",
              "  </div>\n",
              "  "
            ]
          },
          "metadata": {},
          "execution_count": 8
        }
      ],
      "source": [
        "file_id2 = '14tlnGaRrcrEAY4u5xPSJgMSgW7_fUn8e'\n",
        "download2 = drive.CreateFile({'id': file_id2})\n",
        "download2.GetContentFile('test.csv')\n",
        "test_df = pd.read_csv(\"test.csv\",low_memory = False)\n",
        "test_df.head()"
      ]
    },
    {
      "cell_type": "code",
      "execution_count": null,
      "metadata": {
        "colab": {
          "base_uri": "https://localhost:8080/"
        },
        "id": "He1DbWQSvXQA",
        "outputId": "295b520c-04e4-4064-d7be-0e28f181567d"
      },
      "outputs": [
        {
          "output_type": "stream",
          "name": "stdout",
          "text": [
            "display.max_colwidth : int or None\n",
            "    The maximum width in characters of a column in the repr of\n",
            "    a pandas data structure. When the column overflows, a \"...\"\n",
            "    placeholder is embedded in the output. A 'None' value means unlimited.\n",
            "    [default: 50] [currently: 400]\n"
          ]
        }
      ],
      "source": [
        "pd.set_option('max_rows', 99999)\n",
        "pd.set_option('max_colwidth', 400)\n",
        "pd.describe_option('max_colwidth')"
      ]
    },
    {
      "cell_type": "markdown",
      "source": [
        "Garbage collector"
      ],
      "metadata": {
        "id": "hjiMmT7DeKRl"
      }
    },
    {
      "cell_type": "code",
      "execution_count": null,
      "metadata": {
        "colab": {
          "base_uri": "https://localhost:8080/"
        },
        "id": "HVmvY63mV122",
        "outputId": "4aebe38c-6808-4aad-9d0d-dc7b0fec80b7"
      },
      "outputs": [
        {
          "output_type": "execute_result",
          "data": {
            "text/plain": [
              "516"
            ]
          },
          "metadata": {},
          "execution_count": 10
        }
      ],
      "source": [
        "gc.collect()"
      ]
    },
    {
      "cell_type": "code",
      "execution_count": null,
      "metadata": {
        "colab": {
          "base_uri": "https://localhost:8080/",
          "height": 317
        },
        "id": "iYIogPjEQOwv",
        "outputId": "1ad89bf9-d522-4bf6-cdf4-69a729708024"
      },
      "outputs": [
        {
          "output_type": "execute_result",
          "data": {
            "text/plain": [
              "   Unnamed: 0  MachineIdentifier   ProductName EngineVersion       AppVersion  \\\n",
              "0     6123525            6123525  win8defender   1.1.15200.1  4.18.1807.18075   \n",
              "1     6557910            6557910  win8defender   1.1.15100.1    4.9.10586.672   \n",
              "2     2134897            2134897  win8defender   1.1.15200.1  4.18.1807.18075   \n",
              "3     3368859            3368859  win8defender   1.1.15100.1  4.18.1807.18075   \n",
              "4     3354858            3354858  win8defender   1.1.15200.1  4.18.1807.18075   \n",
              "\n",
              "   AvSigVersion  IsBeta  RtpStateBitfield  IsSxsPassiveMode  \\\n",
              "0  1.275.1429.0       0               7.0                 0   \n",
              "1   1.273.995.0       0               7.0                 0   \n",
              "2  1.275.1730.0       0               7.0                 0   \n",
              "3  1.273.1552.0       0               7.0                 0   \n",
              "4   1.275.876.0       0               7.0                 0   \n",
              "\n",
              "   DefaultBrowsersIdentifier  ...  Census_FirmwareManufacturerIdentifier  \\\n",
              "0                        NaN  ...                                  512.0   \n",
              "1                        NaN  ...                                  355.0   \n",
              "2                        NaN  ...                                  355.0   \n",
              "3                        NaN  ...                                  677.0   \n",
              "4                        NaN  ...                                  142.0   \n",
              "\n",
              "   Census_FirmwareVersionIdentifier  Census_IsSecureBootEnabled  \\\n",
              "0                           63175.0                           0   \n",
              "1                           19951.0                           0   \n",
              "2                            7426.0                           1   \n",
              "3                            8156.0                           1   \n",
              "4                           41834.0                           1   \n",
              "\n",
              "   Census_IsWIMBootEnabled  Census_IsVirtualDevice  Census_IsTouchEnabled  \\\n",
              "0                      0.0                     0.0                      0   \n",
              "1                      0.0                     0.0                      0   \n",
              "2                      NaN                     0.0                      0   \n",
              "3                      NaN                     0.0                      1   \n",
              "4                      0.0                     0.0                      0   \n",
              "\n",
              "   Census_IsPenCapable  Census_IsAlwaysOnAlwaysConnectedCapable  Wdft_IsGamer  \\\n",
              "0                    0                                      0.0           0.0   \n",
              "1                    0                                      0.0           0.0   \n",
              "2                    0                                      0.0           0.0   \n",
              "3                    1                                      1.0           0.0   \n",
              "4                    0                                      0.0           0.0   \n",
              "\n",
              "  Wdft_RegionIdentifier  \n",
              "0                   1.0  \n",
              "1                  11.0  \n",
              "2                  11.0  \n",
              "3                  15.0  \n",
              "4                   7.0  \n",
              "\n",
              "[5 rows x 83 columns]"
            ],
            "text/html": [
              "\n",
              "  <div id=\"df-3348e1a4-af02-4a34-b6b9-43b4b8093bfe\">\n",
              "    <div class=\"colab-df-container\">\n",
              "      <div>\n",
              "<style scoped>\n",
              "    .dataframe tbody tr th:only-of-type {\n",
              "        vertical-align: middle;\n",
              "    }\n",
              "\n",
              "    .dataframe tbody tr th {\n",
              "        vertical-align: top;\n",
              "    }\n",
              "\n",
              "    .dataframe thead th {\n",
              "        text-align: right;\n",
              "    }\n",
              "</style>\n",
              "<table border=\"1\" class=\"dataframe\">\n",
              "  <thead>\n",
              "    <tr style=\"text-align: right;\">\n",
              "      <th></th>\n",
              "      <th>Unnamed: 0</th>\n",
              "      <th>MachineIdentifier</th>\n",
              "      <th>ProductName</th>\n",
              "      <th>EngineVersion</th>\n",
              "      <th>AppVersion</th>\n",
              "      <th>AvSigVersion</th>\n",
              "      <th>IsBeta</th>\n",
              "      <th>RtpStateBitfield</th>\n",
              "      <th>IsSxsPassiveMode</th>\n",
              "      <th>DefaultBrowsersIdentifier</th>\n",
              "      <th>...</th>\n",
              "      <th>Census_FirmwareManufacturerIdentifier</th>\n",
              "      <th>Census_FirmwareVersionIdentifier</th>\n",
              "      <th>Census_IsSecureBootEnabled</th>\n",
              "      <th>Census_IsWIMBootEnabled</th>\n",
              "      <th>Census_IsVirtualDevice</th>\n",
              "      <th>Census_IsTouchEnabled</th>\n",
              "      <th>Census_IsPenCapable</th>\n",
              "      <th>Census_IsAlwaysOnAlwaysConnectedCapable</th>\n",
              "      <th>Wdft_IsGamer</th>\n",
              "      <th>Wdft_RegionIdentifier</th>\n",
              "    </tr>\n",
              "  </thead>\n",
              "  <tbody>\n",
              "    <tr>\n",
              "      <th>0</th>\n",
              "      <td>6123525</td>\n",
              "      <td>6123525</td>\n",
              "      <td>win8defender</td>\n",
              "      <td>1.1.15200.1</td>\n",
              "      <td>4.18.1807.18075</td>\n",
              "      <td>1.275.1429.0</td>\n",
              "      <td>0</td>\n",
              "      <td>7.0</td>\n",
              "      <td>0</td>\n",
              "      <td>NaN</td>\n",
              "      <td>...</td>\n",
              "      <td>512.0</td>\n",
              "      <td>63175.0</td>\n",
              "      <td>0</td>\n",
              "      <td>0.0</td>\n",
              "      <td>0.0</td>\n",
              "      <td>0</td>\n",
              "      <td>0</td>\n",
              "      <td>0.0</td>\n",
              "      <td>0.0</td>\n",
              "      <td>1.0</td>\n",
              "    </tr>\n",
              "    <tr>\n",
              "      <th>1</th>\n",
              "      <td>6557910</td>\n",
              "      <td>6557910</td>\n",
              "      <td>win8defender</td>\n",
              "      <td>1.1.15100.1</td>\n",
              "      <td>4.9.10586.672</td>\n",
              "      <td>1.273.995.0</td>\n",
              "      <td>0</td>\n",
              "      <td>7.0</td>\n",
              "      <td>0</td>\n",
              "      <td>NaN</td>\n",
              "      <td>...</td>\n",
              "      <td>355.0</td>\n",
              "      <td>19951.0</td>\n",
              "      <td>0</td>\n",
              "      <td>0.0</td>\n",
              "      <td>0.0</td>\n",
              "      <td>0</td>\n",
              "      <td>0</td>\n",
              "      <td>0.0</td>\n",
              "      <td>0.0</td>\n",
              "      <td>11.0</td>\n",
              "    </tr>\n",
              "    <tr>\n",
              "      <th>2</th>\n",
              "      <td>2134897</td>\n",
              "      <td>2134897</td>\n",
              "      <td>win8defender</td>\n",
              "      <td>1.1.15200.1</td>\n",
              "      <td>4.18.1807.18075</td>\n",
              "      <td>1.275.1730.0</td>\n",
              "      <td>0</td>\n",
              "      <td>7.0</td>\n",
              "      <td>0</td>\n",
              "      <td>NaN</td>\n",
              "      <td>...</td>\n",
              "      <td>355.0</td>\n",
              "      <td>7426.0</td>\n",
              "      <td>1</td>\n",
              "      <td>NaN</td>\n",
              "      <td>0.0</td>\n",
              "      <td>0</td>\n",
              "      <td>0</td>\n",
              "      <td>0.0</td>\n",
              "      <td>0.0</td>\n",
              "      <td>11.0</td>\n",
              "    </tr>\n",
              "    <tr>\n",
              "      <th>3</th>\n",
              "      <td>3368859</td>\n",
              "      <td>3368859</td>\n",
              "      <td>win8defender</td>\n",
              "      <td>1.1.15100.1</td>\n",
              "      <td>4.18.1807.18075</td>\n",
              "      <td>1.273.1552.0</td>\n",
              "      <td>0</td>\n",
              "      <td>7.0</td>\n",
              "      <td>0</td>\n",
              "      <td>NaN</td>\n",
              "      <td>...</td>\n",
              "      <td>677.0</td>\n",
              "      <td>8156.0</td>\n",
              "      <td>1</td>\n",
              "      <td>NaN</td>\n",
              "      <td>0.0</td>\n",
              "      <td>1</td>\n",
              "      <td>1</td>\n",
              "      <td>1.0</td>\n",
              "      <td>0.0</td>\n",
              "      <td>15.0</td>\n",
              "    </tr>\n",
              "    <tr>\n",
              "      <th>4</th>\n",
              "      <td>3354858</td>\n",
              "      <td>3354858</td>\n",
              "      <td>win8defender</td>\n",
              "      <td>1.1.15200.1</td>\n",
              "      <td>4.18.1807.18075</td>\n",
              "      <td>1.275.876.0</td>\n",
              "      <td>0</td>\n",
              "      <td>7.0</td>\n",
              "      <td>0</td>\n",
              "      <td>NaN</td>\n",
              "      <td>...</td>\n",
              "      <td>142.0</td>\n",
              "      <td>41834.0</td>\n",
              "      <td>1</td>\n",
              "      <td>0.0</td>\n",
              "      <td>0.0</td>\n",
              "      <td>0</td>\n",
              "      <td>0</td>\n",
              "      <td>0.0</td>\n",
              "      <td>0.0</td>\n",
              "      <td>7.0</td>\n",
              "    </tr>\n",
              "  </tbody>\n",
              "</table>\n",
              "<p>5 rows × 83 columns</p>\n",
              "</div>\n",
              "      <button class=\"colab-df-convert\" onclick=\"convertToInteractive('df-3348e1a4-af02-4a34-b6b9-43b4b8093bfe')\"\n",
              "              title=\"Convert this dataframe to an interactive table.\"\n",
              "              style=\"display:none;\">\n",
              "        \n",
              "  <svg xmlns=\"http://www.w3.org/2000/svg\" height=\"24px\"viewBox=\"0 0 24 24\"\n",
              "       width=\"24px\">\n",
              "    <path d=\"M0 0h24v24H0V0z\" fill=\"none\"/>\n",
              "    <path d=\"M18.56 5.44l.94 2.06.94-2.06 2.06-.94-2.06-.94-.94-2.06-.94 2.06-2.06.94zm-11 1L8.5 8.5l.94-2.06 2.06-.94-2.06-.94L8.5 2.5l-.94 2.06-2.06.94zm10 10l.94 2.06.94-2.06 2.06-.94-2.06-.94-.94-2.06-.94 2.06-2.06.94z\"/><path d=\"M17.41 7.96l-1.37-1.37c-.4-.4-.92-.59-1.43-.59-.52 0-1.04.2-1.43.59L10.3 9.45l-7.72 7.72c-.78.78-.78 2.05 0 2.83L4 21.41c.39.39.9.59 1.41.59.51 0 1.02-.2 1.41-.59l7.78-7.78 2.81-2.81c.8-.78.8-2.07 0-2.86zM5.41 20L4 18.59l7.72-7.72 1.47 1.35L5.41 20z\"/>\n",
              "  </svg>\n",
              "      </button>\n",
              "      \n",
              "  <style>\n",
              "    .colab-df-container {\n",
              "      display:flex;\n",
              "      flex-wrap:wrap;\n",
              "      gap: 12px;\n",
              "    }\n",
              "\n",
              "    .colab-df-convert {\n",
              "      background-color: #E8F0FE;\n",
              "      border: none;\n",
              "      border-radius: 50%;\n",
              "      cursor: pointer;\n",
              "      display: none;\n",
              "      fill: #1967D2;\n",
              "      height: 32px;\n",
              "      padding: 0 0 0 0;\n",
              "      width: 32px;\n",
              "    }\n",
              "\n",
              "    .colab-df-convert:hover {\n",
              "      background-color: #E2EBFA;\n",
              "      box-shadow: 0px 1px 2px rgba(60, 64, 67, 0.3), 0px 1px 3px 1px rgba(60, 64, 67, 0.15);\n",
              "      fill: #174EA6;\n",
              "    }\n",
              "\n",
              "    [theme=dark] .colab-df-convert {\n",
              "      background-color: #3B4455;\n",
              "      fill: #D2E3FC;\n",
              "    }\n",
              "\n",
              "    [theme=dark] .colab-df-convert:hover {\n",
              "      background-color: #434B5C;\n",
              "      box-shadow: 0px 1px 3px 1px rgba(0, 0, 0, 0.15);\n",
              "      filter: drop-shadow(0px 1px 2px rgba(0, 0, 0, 0.3));\n",
              "      fill: #FFFFFF;\n",
              "    }\n",
              "  </style>\n",
              "\n",
              "      <script>\n",
              "        const buttonEl =\n",
              "          document.querySelector('#df-3348e1a4-af02-4a34-b6b9-43b4b8093bfe button.colab-df-convert');\n",
              "        buttonEl.style.display =\n",
              "          google.colab.kernel.accessAllowed ? 'block' : 'none';\n",
              "\n",
              "        async function convertToInteractive(key) {\n",
              "          const element = document.querySelector('#df-3348e1a4-af02-4a34-b6b9-43b4b8093bfe');\n",
              "          const dataTable =\n",
              "            await google.colab.kernel.invokeFunction('convertToInteractive',\n",
              "                                                     [key], {});\n",
              "          if (!dataTable) return;\n",
              "\n",
              "          const docLinkHtml = 'Like what you see? Visit the ' +\n",
              "            '<a target=\"_blank\" href=https://colab.research.google.com/notebooks/data_table.ipynb>data table notebook</a>'\n",
              "            + ' to learn more about interactive tables.';\n",
              "          element.innerHTML = '';\n",
              "          dataTable['output_type'] = 'display_data';\n",
              "          await google.colab.output.renderOutput(dataTable, element);\n",
              "          const docLink = document.createElement('div');\n",
              "          docLink.innerHTML = docLinkHtml;\n",
              "          element.appendChild(docLink);\n",
              "        }\n",
              "      </script>\n",
              "    </div>\n",
              "  </div>\n",
              "  "
            ]
          },
          "metadata": {},
          "execution_count": 11
        }
      ],
      "source": [
        "test_df.head()"
      ]
    },
    {
      "cell_type": "code",
      "execution_count": null,
      "metadata": {
        "id": "US4Mfa3JNYg6",
        "colab": {
          "base_uri": "https://localhost:8080/",
          "height": 393
        },
        "outputId": "b7476377-6b75-4490-a037-66d1323e6c01"
      },
      "outputs": [
        {
          "output_type": "execute_result",
          "data": {
            "text/plain": [
              "         Unnamed: 0  MachineIdentifier        IsBeta  RtpStateBitfield  \\\n",
              "count  1.427437e+06       1.427437e+06  1.427437e+06      1.422280e+06   \n",
              "mean   4.464695e+06       4.464695e+06  5.604450e-06      6.844938e+00   \n",
              "std    2.575295e+06       2.575295e+06  2.367366e-03      1.027449e+00   \n",
              "min    8.000000e+00       8.000000e+00  0.000000e+00      0.000000e+00   \n",
              "25%    2.237167e+06       2.237167e+06  0.000000e+00      7.000000e+00   \n",
              "50%    4.465422e+06       4.465422e+06  0.000000e+00      7.000000e+00   \n",
              "75%    6.693923e+06       6.693923e+06  0.000000e+00      7.000000e+00   \n",
              "max    8.921475e+06       8.921475e+06  1.000000e+00      3.500000e+01   \n",
              "\n",
              "       IsSxsPassiveMode  DefaultBrowsersIdentifier  AVProductStatesIdentifier  \\\n",
              "count      1.427437e+06               69034.000000               1.421542e+06   \n",
              "mean       1.737730e-02                1660.099183               4.784247e+04   \n",
              "std        1.306726e-01                1002.946790               1.402022e+04   \n",
              "min        0.000000e+00                   1.000000               3.000000e+00   \n",
              "25%        0.000000e+00                 788.000000               4.948000e+04   \n",
              "50%        0.000000e+00                1632.000000               5.344700e+04   \n",
              "75%        0.000000e+00                2388.000000               5.344700e+04   \n",
              "max        1.000000e+00                3212.000000               7.049600e+04   \n",
              "\n",
              "       AVProductsInstalled  AVProductsEnabled        HasTpm  ...  \\\n",
              "count         1.421542e+06       1.421542e+06  1.427437e+06  ...   \n",
              "mean          1.326524e+00       1.020875e+00  9.880177e-01  ...   \n",
              "std           5.226712e-01       1.668508e-01  1.088060e-01  ...   \n",
              "min           1.000000e+00       0.000000e+00  0.000000e+00  ...   \n",
              "25%           1.000000e+00       1.000000e+00  1.000000e+00  ...   \n",
              "50%           1.000000e+00       1.000000e+00  1.000000e+00  ...   \n",
              "75%           2.000000e+00       1.000000e+00  1.000000e+00  ...   \n",
              "max           6.000000e+00       5.000000e+00  1.000000e+00  ...   \n",
              "\n",
              "       Census_FirmwareVersionIdentifier  Census_IsSecureBootEnabled  \\\n",
              "count                      1.401853e+06                1.427437e+06   \n",
              "mean                       3.303730e+04                4.857566e-01   \n",
              "std                        2.120403e+04                4.997973e-01   \n",
              "min                        2.100000e+01                0.000000e+00   \n",
              "25%                        1.315600e+04                0.000000e+00   \n",
              "50%                        3.307000e+04                0.000000e+00   \n",
              "75%                        5.243100e+04                1.000000e+00   \n",
              "max                        7.209100e+04                1.000000e+00   \n",
              "\n",
              "       Census_IsWIMBootEnabled  Census_IsVirtualDevice  Census_IsTouchEnabled  \\\n",
              "count                 521212.0            1.424803e+06           1.427437e+06   \n",
              "mean                       0.0            7.161692e-03           1.251908e-01   \n",
              "std                        0.0            8.432323e-02           3.309353e-01   \n",
              "min                        0.0            0.000000e+00           0.000000e+00   \n",
              "25%                        0.0            0.000000e+00           0.000000e+00   \n",
              "50%                        0.0            0.000000e+00           0.000000e+00   \n",
              "75%                        0.0            0.000000e+00           0.000000e+00   \n",
              "max                        0.0            1.000000e+00           1.000000e+00   \n",
              "\n",
              "       Census_IsPenCapable  Census_IsAlwaysOnAlwaysConnectedCapable  \\\n",
              "count         1.427437e+06                             1.416211e+06   \n",
              "mean          3.812357e-02                             5.763336e-02   \n",
              "std           1.914946e-01                             2.330489e-01   \n",
              "min           0.000000e+00                             0.000000e+00   \n",
              "25%           0.000000e+00                             0.000000e+00   \n",
              "50%           0.000000e+00                             0.000000e+00   \n",
              "75%           0.000000e+00                             0.000000e+00   \n",
              "max           1.000000e+00                             1.000000e+00   \n",
              "\n",
              "       Wdft_IsGamer  Wdft_RegionIdentifier  HasDetections  \n",
              "count  1.378774e+06           1.378774e+06   1.427437e+06  \n",
              "mean   2.836281e-01           7.879336e+00   4.997930e-01  \n",
              "std    4.507586e-01           4.549816e+00   5.000001e-01  \n",
              "min    0.000000e+00           1.000000e+00   0.000000e+00  \n",
              "25%    0.000000e+00           3.000000e+00   0.000000e+00  \n",
              "50%    0.000000e+00           1.000000e+01   0.000000e+00  \n",
              "75%    1.000000e+00           1.100000e+01   1.000000e+00  \n",
              "max    1.000000e+00           1.500000e+01   1.000000e+00  \n",
              "\n",
              "[8 rows x 55 columns]"
            ],
            "text/html": [
              "\n",
              "  <div id=\"df-58b05152-427c-4aa9-8d58-46468839a70b\">\n",
              "    <div class=\"colab-df-container\">\n",
              "      <div>\n",
              "<style scoped>\n",
              "    .dataframe tbody tr th:only-of-type {\n",
              "        vertical-align: middle;\n",
              "    }\n",
              "\n",
              "    .dataframe tbody tr th {\n",
              "        vertical-align: top;\n",
              "    }\n",
              "\n",
              "    .dataframe thead th {\n",
              "        text-align: right;\n",
              "    }\n",
              "</style>\n",
              "<table border=\"1\" class=\"dataframe\">\n",
              "  <thead>\n",
              "    <tr style=\"text-align: right;\">\n",
              "      <th></th>\n",
              "      <th>Unnamed: 0</th>\n",
              "      <th>MachineIdentifier</th>\n",
              "      <th>IsBeta</th>\n",
              "      <th>RtpStateBitfield</th>\n",
              "      <th>IsSxsPassiveMode</th>\n",
              "      <th>DefaultBrowsersIdentifier</th>\n",
              "      <th>AVProductStatesIdentifier</th>\n",
              "      <th>AVProductsInstalled</th>\n",
              "      <th>AVProductsEnabled</th>\n",
              "      <th>HasTpm</th>\n",
              "      <th>...</th>\n",
              "      <th>Census_FirmwareVersionIdentifier</th>\n",
              "      <th>Census_IsSecureBootEnabled</th>\n",
              "      <th>Census_IsWIMBootEnabled</th>\n",
              "      <th>Census_IsVirtualDevice</th>\n",
              "      <th>Census_IsTouchEnabled</th>\n",
              "      <th>Census_IsPenCapable</th>\n",
              "      <th>Census_IsAlwaysOnAlwaysConnectedCapable</th>\n",
              "      <th>Wdft_IsGamer</th>\n",
              "      <th>Wdft_RegionIdentifier</th>\n",
              "      <th>HasDetections</th>\n",
              "    </tr>\n",
              "  </thead>\n",
              "  <tbody>\n",
              "    <tr>\n",
              "      <th>count</th>\n",
              "      <td>1.427437e+06</td>\n",
              "      <td>1.427437e+06</td>\n",
              "      <td>1.427437e+06</td>\n",
              "      <td>1.422280e+06</td>\n",
              "      <td>1.427437e+06</td>\n",
              "      <td>69034.000000</td>\n",
              "      <td>1.421542e+06</td>\n",
              "      <td>1.421542e+06</td>\n",
              "      <td>1.421542e+06</td>\n",
              "      <td>1.427437e+06</td>\n",
              "      <td>...</td>\n",
              "      <td>1.401853e+06</td>\n",
              "      <td>1.427437e+06</td>\n",
              "      <td>521212.0</td>\n",
              "      <td>1.424803e+06</td>\n",
              "      <td>1.427437e+06</td>\n",
              "      <td>1.427437e+06</td>\n",
              "      <td>1.416211e+06</td>\n",
              "      <td>1.378774e+06</td>\n",
              "      <td>1.378774e+06</td>\n",
              "      <td>1.427437e+06</td>\n",
              "    </tr>\n",
              "    <tr>\n",
              "      <th>mean</th>\n",
              "      <td>4.464695e+06</td>\n",
              "      <td>4.464695e+06</td>\n",
              "      <td>5.604450e-06</td>\n",
              "      <td>6.844938e+00</td>\n",
              "      <td>1.737730e-02</td>\n",
              "      <td>1660.099183</td>\n",
              "      <td>4.784247e+04</td>\n",
              "      <td>1.326524e+00</td>\n",
              "      <td>1.020875e+00</td>\n",
              "      <td>9.880177e-01</td>\n",
              "      <td>...</td>\n",
              "      <td>3.303730e+04</td>\n",
              "      <td>4.857566e-01</td>\n",
              "      <td>0.0</td>\n",
              "      <td>7.161692e-03</td>\n",
              "      <td>1.251908e-01</td>\n",
              "      <td>3.812357e-02</td>\n",
              "      <td>5.763336e-02</td>\n",
              "      <td>2.836281e-01</td>\n",
              "      <td>7.879336e+00</td>\n",
              "      <td>4.997930e-01</td>\n",
              "    </tr>\n",
              "    <tr>\n",
              "      <th>std</th>\n",
              "      <td>2.575295e+06</td>\n",
              "      <td>2.575295e+06</td>\n",
              "      <td>2.367366e-03</td>\n",
              "      <td>1.027449e+00</td>\n",
              "      <td>1.306726e-01</td>\n",
              "      <td>1002.946790</td>\n",
              "      <td>1.402022e+04</td>\n",
              "      <td>5.226712e-01</td>\n",
              "      <td>1.668508e-01</td>\n",
              "      <td>1.088060e-01</td>\n",
              "      <td>...</td>\n",
              "      <td>2.120403e+04</td>\n",
              "      <td>4.997973e-01</td>\n",
              "      <td>0.0</td>\n",
              "      <td>8.432323e-02</td>\n",
              "      <td>3.309353e-01</td>\n",
              "      <td>1.914946e-01</td>\n",
              "      <td>2.330489e-01</td>\n",
              "      <td>4.507586e-01</td>\n",
              "      <td>4.549816e+00</td>\n",
              "      <td>5.000001e-01</td>\n",
              "    </tr>\n",
              "    <tr>\n",
              "      <th>min</th>\n",
              "      <td>8.000000e+00</td>\n",
              "      <td>8.000000e+00</td>\n",
              "      <td>0.000000e+00</td>\n",
              "      <td>0.000000e+00</td>\n",
              "      <td>0.000000e+00</td>\n",
              "      <td>1.000000</td>\n",
              "      <td>3.000000e+00</td>\n",
              "      <td>1.000000e+00</td>\n",
              "      <td>0.000000e+00</td>\n",
              "      <td>0.000000e+00</td>\n",
              "      <td>...</td>\n",
              "      <td>2.100000e+01</td>\n",
              "      <td>0.000000e+00</td>\n",
              "      <td>0.0</td>\n",
              "      <td>0.000000e+00</td>\n",
              "      <td>0.000000e+00</td>\n",
              "      <td>0.000000e+00</td>\n",
              "      <td>0.000000e+00</td>\n",
              "      <td>0.000000e+00</td>\n",
              "      <td>1.000000e+00</td>\n",
              "      <td>0.000000e+00</td>\n",
              "    </tr>\n",
              "    <tr>\n",
              "      <th>25%</th>\n",
              "      <td>2.237167e+06</td>\n",
              "      <td>2.237167e+06</td>\n",
              "      <td>0.000000e+00</td>\n",
              "      <td>7.000000e+00</td>\n",
              "      <td>0.000000e+00</td>\n",
              "      <td>788.000000</td>\n",
              "      <td>4.948000e+04</td>\n",
              "      <td>1.000000e+00</td>\n",
              "      <td>1.000000e+00</td>\n",
              "      <td>1.000000e+00</td>\n",
              "      <td>...</td>\n",
              "      <td>1.315600e+04</td>\n",
              "      <td>0.000000e+00</td>\n",
              "      <td>0.0</td>\n",
              "      <td>0.000000e+00</td>\n",
              "      <td>0.000000e+00</td>\n",
              "      <td>0.000000e+00</td>\n",
              "      <td>0.000000e+00</td>\n",
              "      <td>0.000000e+00</td>\n",
              "      <td>3.000000e+00</td>\n",
              "      <td>0.000000e+00</td>\n",
              "    </tr>\n",
              "    <tr>\n",
              "      <th>50%</th>\n",
              "      <td>4.465422e+06</td>\n",
              "      <td>4.465422e+06</td>\n",
              "      <td>0.000000e+00</td>\n",
              "      <td>7.000000e+00</td>\n",
              "      <td>0.000000e+00</td>\n",
              "      <td>1632.000000</td>\n",
              "      <td>5.344700e+04</td>\n",
              "      <td>1.000000e+00</td>\n",
              "      <td>1.000000e+00</td>\n",
              "      <td>1.000000e+00</td>\n",
              "      <td>...</td>\n",
              "      <td>3.307000e+04</td>\n",
              "      <td>0.000000e+00</td>\n",
              "      <td>0.0</td>\n",
              "      <td>0.000000e+00</td>\n",
              "      <td>0.000000e+00</td>\n",
              "      <td>0.000000e+00</td>\n",
              "      <td>0.000000e+00</td>\n",
              "      <td>0.000000e+00</td>\n",
              "      <td>1.000000e+01</td>\n",
              "      <td>0.000000e+00</td>\n",
              "    </tr>\n",
              "    <tr>\n",
              "      <th>75%</th>\n",
              "      <td>6.693923e+06</td>\n",
              "      <td>6.693923e+06</td>\n",
              "      <td>0.000000e+00</td>\n",
              "      <td>7.000000e+00</td>\n",
              "      <td>0.000000e+00</td>\n",
              "      <td>2388.000000</td>\n",
              "      <td>5.344700e+04</td>\n",
              "      <td>2.000000e+00</td>\n",
              "      <td>1.000000e+00</td>\n",
              "      <td>1.000000e+00</td>\n",
              "      <td>...</td>\n",
              "      <td>5.243100e+04</td>\n",
              "      <td>1.000000e+00</td>\n",
              "      <td>0.0</td>\n",
              "      <td>0.000000e+00</td>\n",
              "      <td>0.000000e+00</td>\n",
              "      <td>0.000000e+00</td>\n",
              "      <td>0.000000e+00</td>\n",
              "      <td>1.000000e+00</td>\n",
              "      <td>1.100000e+01</td>\n",
              "      <td>1.000000e+00</td>\n",
              "    </tr>\n",
              "    <tr>\n",
              "      <th>max</th>\n",
              "      <td>8.921475e+06</td>\n",
              "      <td>8.921475e+06</td>\n",
              "      <td>1.000000e+00</td>\n",
              "      <td>3.500000e+01</td>\n",
              "      <td>1.000000e+00</td>\n",
              "      <td>3212.000000</td>\n",
              "      <td>7.049600e+04</td>\n",
              "      <td>6.000000e+00</td>\n",
              "      <td>5.000000e+00</td>\n",
              "      <td>1.000000e+00</td>\n",
              "      <td>...</td>\n",
              "      <td>7.209100e+04</td>\n",
              "      <td>1.000000e+00</td>\n",
              "      <td>0.0</td>\n",
              "      <td>1.000000e+00</td>\n",
              "      <td>1.000000e+00</td>\n",
              "      <td>1.000000e+00</td>\n",
              "      <td>1.000000e+00</td>\n",
              "      <td>1.000000e+00</td>\n",
              "      <td>1.500000e+01</td>\n",
              "      <td>1.000000e+00</td>\n",
              "    </tr>\n",
              "  </tbody>\n",
              "</table>\n",
              "<p>8 rows × 55 columns</p>\n",
              "</div>\n",
              "      <button class=\"colab-df-convert\" onclick=\"convertToInteractive('df-58b05152-427c-4aa9-8d58-46468839a70b')\"\n",
              "              title=\"Convert this dataframe to an interactive table.\"\n",
              "              style=\"display:none;\">\n",
              "        \n",
              "  <svg xmlns=\"http://www.w3.org/2000/svg\" height=\"24px\"viewBox=\"0 0 24 24\"\n",
              "       width=\"24px\">\n",
              "    <path d=\"M0 0h24v24H0V0z\" fill=\"none\"/>\n",
              "    <path d=\"M18.56 5.44l.94 2.06.94-2.06 2.06-.94-2.06-.94-.94-2.06-.94 2.06-2.06.94zm-11 1L8.5 8.5l.94-2.06 2.06-.94-2.06-.94L8.5 2.5l-.94 2.06-2.06.94zm10 10l.94 2.06.94-2.06 2.06-.94-2.06-.94-.94-2.06-.94 2.06-2.06.94z\"/><path d=\"M17.41 7.96l-1.37-1.37c-.4-.4-.92-.59-1.43-.59-.52 0-1.04.2-1.43.59L10.3 9.45l-7.72 7.72c-.78.78-.78 2.05 0 2.83L4 21.41c.39.39.9.59 1.41.59.51 0 1.02-.2 1.41-.59l7.78-7.78 2.81-2.81c.8-.78.8-2.07 0-2.86zM5.41 20L4 18.59l7.72-7.72 1.47 1.35L5.41 20z\"/>\n",
              "  </svg>\n",
              "      </button>\n",
              "      \n",
              "  <style>\n",
              "    .colab-df-container {\n",
              "      display:flex;\n",
              "      flex-wrap:wrap;\n",
              "      gap: 12px;\n",
              "    }\n",
              "\n",
              "    .colab-df-convert {\n",
              "      background-color: #E8F0FE;\n",
              "      border: none;\n",
              "      border-radius: 50%;\n",
              "      cursor: pointer;\n",
              "      display: none;\n",
              "      fill: #1967D2;\n",
              "      height: 32px;\n",
              "      padding: 0 0 0 0;\n",
              "      width: 32px;\n",
              "    }\n",
              "\n",
              "    .colab-df-convert:hover {\n",
              "      background-color: #E2EBFA;\n",
              "      box-shadow: 0px 1px 2px rgba(60, 64, 67, 0.3), 0px 1px 3px 1px rgba(60, 64, 67, 0.15);\n",
              "      fill: #174EA6;\n",
              "    }\n",
              "\n",
              "    [theme=dark] .colab-df-convert {\n",
              "      background-color: #3B4455;\n",
              "      fill: #D2E3FC;\n",
              "    }\n",
              "\n",
              "    [theme=dark] .colab-df-convert:hover {\n",
              "      background-color: #434B5C;\n",
              "      box-shadow: 0px 1px 3px 1px rgba(0, 0, 0, 0.15);\n",
              "      filter: drop-shadow(0px 1px 2px rgba(0, 0, 0, 0.3));\n",
              "      fill: #FFFFFF;\n",
              "    }\n",
              "  </style>\n",
              "\n",
              "      <script>\n",
              "        const buttonEl =\n",
              "          document.querySelector('#df-58b05152-427c-4aa9-8d58-46468839a70b button.colab-df-convert');\n",
              "        buttonEl.style.display =\n",
              "          google.colab.kernel.accessAllowed ? 'block' : 'none';\n",
              "\n",
              "        async function convertToInteractive(key) {\n",
              "          const element = document.querySelector('#df-58b05152-427c-4aa9-8d58-46468839a70b');\n",
              "          const dataTable =\n",
              "            await google.colab.kernel.invokeFunction('convertToInteractive',\n",
              "                                                     [key], {});\n",
              "          if (!dataTable) return;\n",
              "\n",
              "          const docLinkHtml = 'Like what you see? Visit the ' +\n",
              "            '<a target=\"_blank\" href=https://colab.research.google.com/notebooks/data_table.ipynb>data table notebook</a>'\n",
              "            + ' to learn more about interactive tables.';\n",
              "          element.innerHTML = '';\n",
              "          dataTable['output_type'] = 'display_data';\n",
              "          await google.colab.output.renderOutput(dataTable, element);\n",
              "          const docLink = document.createElement('div');\n",
              "          docLink.innerHTML = docLinkHtml;\n",
              "          element.appendChild(docLink);\n",
              "        }\n",
              "      </script>\n",
              "    </div>\n",
              "  </div>\n",
              "  "
            ]
          },
          "metadata": {},
          "execution_count": 12
        }
      ],
      "source": [
        "train_df.describe()"
      ]
    },
    {
      "cell_type": "code",
      "execution_count": null,
      "metadata": {
        "id": "xk1Y8xOgNfbY",
        "colab": {
          "base_uri": "https://localhost:8080/",
          "height": 393
        },
        "outputId": "8e2bef17-4c8b-4d95-cc13-79b6035f6e93"
      },
      "outputs": [
        {
          "output_type": "execute_result",
          "data": {
            "text/plain": [
              "         Unnamed: 0  MachineIdentifier         IsBeta  RtpStateBitfield  \\\n",
              "count  3.568600e+05       3.568600e+05  356860.000000     355574.000000   \n",
              "mean   4.462473e+06       4.462473e+06       0.000008          6.845796   \n",
              "std    2.577301e+06       2.577301e+06       0.002899          1.023361   \n",
              "min    2.100000e+01       2.100000e+01       0.000000          0.000000   \n",
              "25%    2.229263e+06       2.229263e+06       0.000000          7.000000   \n",
              "50%    4.459479e+06       4.459479e+06       0.000000          7.000000   \n",
              "75%    6.695464e+06       6.695464e+06       0.000000          7.000000   \n",
              "max    8.921456e+06       8.921456e+06       1.000000          8.000000   \n",
              "\n",
              "       IsSxsPassiveMode  DefaultBrowsersIdentifier  AVProductStatesIdentifier  \\\n",
              "count     356860.000000               17115.000000              355404.000000   \n",
              "mean           0.017242                1664.970377               47846.552844   \n",
              "std            0.130172                 997.318238               14028.907701   \n",
              "min            0.000000                   1.000000                  16.000000   \n",
              "25%            0.000000                 788.000000               49480.000000   \n",
              "50%            0.000000                1632.000000               53447.000000   \n",
              "75%            0.000000                2388.000000               53447.000000   \n",
              "max            1.000000                3196.000000               70492.000000   \n",
              "\n",
              "       AVProductsInstalled  AVProductsEnabled         HasTpm  ...  \\\n",
              "count        355404.000000      355404.000000  356860.000000  ...   \n",
              "mean              1.327050           1.021046       0.987774  ...   \n",
              "std               0.523197           0.167494       0.109894  ...   \n",
              "min               1.000000           0.000000       0.000000  ...   \n",
              "25%               1.000000           1.000000       1.000000  ...   \n",
              "50%               1.000000           1.000000       1.000000  ...   \n",
              "75%               2.000000           1.000000       1.000000  ...   \n",
              "max               6.000000           5.000000       1.000000  ...   \n",
              "\n",
              "       Census_FirmwareManufacturerIdentifier  \\\n",
              "count                          349600.000000   \n",
              "mean                              403.335049   \n",
              "std                               221.321883   \n",
              "min                                11.000000   \n",
              "25%                               142.000000   \n",
              "50%                               500.000000   \n",
              "75%                               556.000000   \n",
              "max                              1087.000000   \n",
              "\n",
              "       Census_FirmwareVersionIdentifier  Census_IsSecureBootEnabled  \\\n",
              "count                     350575.000000               356860.000000   \n",
              "mean                       33028.774981                    0.486746   \n",
              "std                        21227.763102                    0.499825   \n",
              "min                           12.000000                    0.000000   \n",
              "25%                        13154.000000                    0.000000   \n",
              "50%                        33066.000000                    0.000000   \n",
              "75%                        52436.000000                    1.000000   \n",
              "max                        72096.000000                    1.000000   \n",
              "\n",
              "       Census_IsWIMBootEnabled  Census_IsVirtualDevice  Census_IsTouchEnabled  \\\n",
              "count                 130475.0           356220.000000          356860.000000   \n",
              "mean                       0.0                0.006751               0.126307   \n",
              "std                        0.0                0.081889               0.332196   \n",
              "min                        0.0                0.000000               0.000000   \n",
              "25%                        0.0                0.000000               0.000000   \n",
              "50%                        0.0                0.000000               0.000000   \n",
              "75%                        0.0                0.000000               0.000000   \n",
              "max                        0.0                1.000000               1.000000   \n",
              "\n",
              "       Census_IsPenCapable  Census_IsAlwaysOnAlwaysConnectedCapable  \\\n",
              "count        356860.000000                            354121.000000   \n",
              "mean              0.038231                                 0.057754   \n",
              "std               0.191753                                 0.233279   \n",
              "min               0.000000                                 0.000000   \n",
              "25%               0.000000                                 0.000000   \n",
              "50%               0.000000                                 0.000000   \n",
              "75%               0.000000                                 0.000000   \n",
              "max               1.000000                                 1.000000   \n",
              "\n",
              "        Wdft_IsGamer  Wdft_RegionIdentifier  \n",
              "count  344981.000000          344981.000000  \n",
              "mean        0.283975               7.875451  \n",
              "std         0.450926               4.548999  \n",
              "min         0.000000               1.000000  \n",
              "25%         0.000000               3.000000  \n",
              "50%         0.000000              10.000000  \n",
              "75%         1.000000              11.000000  \n",
              "max         1.000000              15.000000  \n",
              "\n",
              "[8 rows x 54 columns]"
            ],
            "text/html": [
              "\n",
              "  <div id=\"df-1247387b-1138-4b73-93e5-9ae78dcf8aa7\">\n",
              "    <div class=\"colab-df-container\">\n",
              "      <div>\n",
              "<style scoped>\n",
              "    .dataframe tbody tr th:only-of-type {\n",
              "        vertical-align: middle;\n",
              "    }\n",
              "\n",
              "    .dataframe tbody tr th {\n",
              "        vertical-align: top;\n",
              "    }\n",
              "\n",
              "    .dataframe thead th {\n",
              "        text-align: right;\n",
              "    }\n",
              "</style>\n",
              "<table border=\"1\" class=\"dataframe\">\n",
              "  <thead>\n",
              "    <tr style=\"text-align: right;\">\n",
              "      <th></th>\n",
              "      <th>Unnamed: 0</th>\n",
              "      <th>MachineIdentifier</th>\n",
              "      <th>IsBeta</th>\n",
              "      <th>RtpStateBitfield</th>\n",
              "      <th>IsSxsPassiveMode</th>\n",
              "      <th>DefaultBrowsersIdentifier</th>\n",
              "      <th>AVProductStatesIdentifier</th>\n",
              "      <th>AVProductsInstalled</th>\n",
              "      <th>AVProductsEnabled</th>\n",
              "      <th>HasTpm</th>\n",
              "      <th>...</th>\n",
              "      <th>Census_FirmwareManufacturerIdentifier</th>\n",
              "      <th>Census_FirmwareVersionIdentifier</th>\n",
              "      <th>Census_IsSecureBootEnabled</th>\n",
              "      <th>Census_IsWIMBootEnabled</th>\n",
              "      <th>Census_IsVirtualDevice</th>\n",
              "      <th>Census_IsTouchEnabled</th>\n",
              "      <th>Census_IsPenCapable</th>\n",
              "      <th>Census_IsAlwaysOnAlwaysConnectedCapable</th>\n",
              "      <th>Wdft_IsGamer</th>\n",
              "      <th>Wdft_RegionIdentifier</th>\n",
              "    </tr>\n",
              "  </thead>\n",
              "  <tbody>\n",
              "    <tr>\n",
              "      <th>count</th>\n",
              "      <td>3.568600e+05</td>\n",
              "      <td>3.568600e+05</td>\n",
              "      <td>356860.000000</td>\n",
              "      <td>355574.000000</td>\n",
              "      <td>356860.000000</td>\n",
              "      <td>17115.000000</td>\n",
              "      <td>355404.000000</td>\n",
              "      <td>355404.000000</td>\n",
              "      <td>355404.000000</td>\n",
              "      <td>356860.000000</td>\n",
              "      <td>...</td>\n",
              "      <td>349600.000000</td>\n",
              "      <td>350575.000000</td>\n",
              "      <td>356860.000000</td>\n",
              "      <td>130475.0</td>\n",
              "      <td>356220.000000</td>\n",
              "      <td>356860.000000</td>\n",
              "      <td>356860.000000</td>\n",
              "      <td>354121.000000</td>\n",
              "      <td>344981.000000</td>\n",
              "      <td>344981.000000</td>\n",
              "    </tr>\n",
              "    <tr>\n",
              "      <th>mean</th>\n",
              "      <td>4.462473e+06</td>\n",
              "      <td>4.462473e+06</td>\n",
              "      <td>0.000008</td>\n",
              "      <td>6.845796</td>\n",
              "      <td>0.017242</td>\n",
              "      <td>1664.970377</td>\n",
              "      <td>47846.552844</td>\n",
              "      <td>1.327050</td>\n",
              "      <td>1.021046</td>\n",
              "      <td>0.987774</td>\n",
              "      <td>...</td>\n",
              "      <td>403.335049</td>\n",
              "      <td>33028.774981</td>\n",
              "      <td>0.486746</td>\n",
              "      <td>0.0</td>\n",
              "      <td>0.006751</td>\n",
              "      <td>0.126307</td>\n",
              "      <td>0.038231</td>\n",
              "      <td>0.057754</td>\n",
              "      <td>0.283975</td>\n",
              "      <td>7.875451</td>\n",
              "    </tr>\n",
              "    <tr>\n",
              "      <th>std</th>\n",
              "      <td>2.577301e+06</td>\n",
              "      <td>2.577301e+06</td>\n",
              "      <td>0.002899</td>\n",
              "      <td>1.023361</td>\n",
              "      <td>0.130172</td>\n",
              "      <td>997.318238</td>\n",
              "      <td>14028.907701</td>\n",
              "      <td>0.523197</td>\n",
              "      <td>0.167494</td>\n",
              "      <td>0.109894</td>\n",
              "      <td>...</td>\n",
              "      <td>221.321883</td>\n",
              "      <td>21227.763102</td>\n",
              "      <td>0.499825</td>\n",
              "      <td>0.0</td>\n",
              "      <td>0.081889</td>\n",
              "      <td>0.332196</td>\n",
              "      <td>0.191753</td>\n",
              "      <td>0.233279</td>\n",
              "      <td>0.450926</td>\n",
              "      <td>4.548999</td>\n",
              "    </tr>\n",
              "    <tr>\n",
              "      <th>min</th>\n",
              "      <td>2.100000e+01</td>\n",
              "      <td>2.100000e+01</td>\n",
              "      <td>0.000000</td>\n",
              "      <td>0.000000</td>\n",
              "      <td>0.000000</td>\n",
              "      <td>1.000000</td>\n",
              "      <td>16.000000</td>\n",
              "      <td>1.000000</td>\n",
              "      <td>0.000000</td>\n",
              "      <td>0.000000</td>\n",
              "      <td>...</td>\n",
              "      <td>11.000000</td>\n",
              "      <td>12.000000</td>\n",
              "      <td>0.000000</td>\n",
              "      <td>0.0</td>\n",
              "      <td>0.000000</td>\n",
              "      <td>0.000000</td>\n",
              "      <td>0.000000</td>\n",
              "      <td>0.000000</td>\n",
              "      <td>0.000000</td>\n",
              "      <td>1.000000</td>\n",
              "    </tr>\n",
              "    <tr>\n",
              "      <th>25%</th>\n",
              "      <td>2.229263e+06</td>\n",
              "      <td>2.229263e+06</td>\n",
              "      <td>0.000000</td>\n",
              "      <td>7.000000</td>\n",
              "      <td>0.000000</td>\n",
              "      <td>788.000000</td>\n",
              "      <td>49480.000000</td>\n",
              "      <td>1.000000</td>\n",
              "      <td>1.000000</td>\n",
              "      <td>1.000000</td>\n",
              "      <td>...</td>\n",
              "      <td>142.000000</td>\n",
              "      <td>13154.000000</td>\n",
              "      <td>0.000000</td>\n",
              "      <td>0.0</td>\n",
              "      <td>0.000000</td>\n",
              "      <td>0.000000</td>\n",
              "      <td>0.000000</td>\n",
              "      <td>0.000000</td>\n",
              "      <td>0.000000</td>\n",
              "      <td>3.000000</td>\n",
              "    </tr>\n",
              "    <tr>\n",
              "      <th>50%</th>\n",
              "      <td>4.459479e+06</td>\n",
              "      <td>4.459479e+06</td>\n",
              "      <td>0.000000</td>\n",
              "      <td>7.000000</td>\n",
              "      <td>0.000000</td>\n",
              "      <td>1632.000000</td>\n",
              "      <td>53447.000000</td>\n",
              "      <td>1.000000</td>\n",
              "      <td>1.000000</td>\n",
              "      <td>1.000000</td>\n",
              "      <td>...</td>\n",
              "      <td>500.000000</td>\n",
              "      <td>33066.000000</td>\n",
              "      <td>0.000000</td>\n",
              "      <td>0.0</td>\n",
              "      <td>0.000000</td>\n",
              "      <td>0.000000</td>\n",
              "      <td>0.000000</td>\n",
              "      <td>0.000000</td>\n",
              "      <td>0.000000</td>\n",
              "      <td>10.000000</td>\n",
              "    </tr>\n",
              "    <tr>\n",
              "      <th>75%</th>\n",
              "      <td>6.695464e+06</td>\n",
              "      <td>6.695464e+06</td>\n",
              "      <td>0.000000</td>\n",
              "      <td>7.000000</td>\n",
              "      <td>0.000000</td>\n",
              "      <td>2388.000000</td>\n",
              "      <td>53447.000000</td>\n",
              "      <td>2.000000</td>\n",
              "      <td>1.000000</td>\n",
              "      <td>1.000000</td>\n",
              "      <td>...</td>\n",
              "      <td>556.000000</td>\n",
              "      <td>52436.000000</td>\n",
              "      <td>1.000000</td>\n",
              "      <td>0.0</td>\n",
              "      <td>0.000000</td>\n",
              "      <td>0.000000</td>\n",
              "      <td>0.000000</td>\n",
              "      <td>0.000000</td>\n",
              "      <td>1.000000</td>\n",
              "      <td>11.000000</td>\n",
              "    </tr>\n",
              "    <tr>\n",
              "      <th>max</th>\n",
              "      <td>8.921456e+06</td>\n",
              "      <td>8.921456e+06</td>\n",
              "      <td>1.000000</td>\n",
              "      <td>8.000000</td>\n",
              "      <td>1.000000</td>\n",
              "      <td>3196.000000</td>\n",
              "      <td>70492.000000</td>\n",
              "      <td>6.000000</td>\n",
              "      <td>5.000000</td>\n",
              "      <td>1.000000</td>\n",
              "      <td>...</td>\n",
              "      <td>1087.000000</td>\n",
              "      <td>72096.000000</td>\n",
              "      <td>1.000000</td>\n",
              "      <td>0.0</td>\n",
              "      <td>1.000000</td>\n",
              "      <td>1.000000</td>\n",
              "      <td>1.000000</td>\n",
              "      <td>1.000000</td>\n",
              "      <td>1.000000</td>\n",
              "      <td>15.000000</td>\n",
              "    </tr>\n",
              "  </tbody>\n",
              "</table>\n",
              "<p>8 rows × 54 columns</p>\n",
              "</div>\n",
              "      <button class=\"colab-df-convert\" onclick=\"convertToInteractive('df-1247387b-1138-4b73-93e5-9ae78dcf8aa7')\"\n",
              "              title=\"Convert this dataframe to an interactive table.\"\n",
              "              style=\"display:none;\">\n",
              "        \n",
              "  <svg xmlns=\"http://www.w3.org/2000/svg\" height=\"24px\"viewBox=\"0 0 24 24\"\n",
              "       width=\"24px\">\n",
              "    <path d=\"M0 0h24v24H0V0z\" fill=\"none\"/>\n",
              "    <path d=\"M18.56 5.44l.94 2.06.94-2.06 2.06-.94-2.06-.94-.94-2.06-.94 2.06-2.06.94zm-11 1L8.5 8.5l.94-2.06 2.06-.94-2.06-.94L8.5 2.5l-.94 2.06-2.06.94zm10 10l.94 2.06.94-2.06 2.06-.94-2.06-.94-.94-2.06-.94 2.06-2.06.94z\"/><path d=\"M17.41 7.96l-1.37-1.37c-.4-.4-.92-.59-1.43-.59-.52 0-1.04.2-1.43.59L10.3 9.45l-7.72 7.72c-.78.78-.78 2.05 0 2.83L4 21.41c.39.39.9.59 1.41.59.51 0 1.02-.2 1.41-.59l7.78-7.78 2.81-2.81c.8-.78.8-2.07 0-2.86zM5.41 20L4 18.59l7.72-7.72 1.47 1.35L5.41 20z\"/>\n",
              "  </svg>\n",
              "      </button>\n",
              "      \n",
              "  <style>\n",
              "    .colab-df-container {\n",
              "      display:flex;\n",
              "      flex-wrap:wrap;\n",
              "      gap: 12px;\n",
              "    }\n",
              "\n",
              "    .colab-df-convert {\n",
              "      background-color: #E8F0FE;\n",
              "      border: none;\n",
              "      border-radius: 50%;\n",
              "      cursor: pointer;\n",
              "      display: none;\n",
              "      fill: #1967D2;\n",
              "      height: 32px;\n",
              "      padding: 0 0 0 0;\n",
              "      width: 32px;\n",
              "    }\n",
              "\n",
              "    .colab-df-convert:hover {\n",
              "      background-color: #E2EBFA;\n",
              "      box-shadow: 0px 1px 2px rgba(60, 64, 67, 0.3), 0px 1px 3px 1px rgba(60, 64, 67, 0.15);\n",
              "      fill: #174EA6;\n",
              "    }\n",
              "\n",
              "    [theme=dark] .colab-df-convert {\n",
              "      background-color: #3B4455;\n",
              "      fill: #D2E3FC;\n",
              "    }\n",
              "\n",
              "    [theme=dark] .colab-df-convert:hover {\n",
              "      background-color: #434B5C;\n",
              "      box-shadow: 0px 1px 3px 1px rgba(0, 0, 0, 0.15);\n",
              "      filter: drop-shadow(0px 1px 2px rgba(0, 0, 0, 0.3));\n",
              "      fill: #FFFFFF;\n",
              "    }\n",
              "  </style>\n",
              "\n",
              "      <script>\n",
              "        const buttonEl =\n",
              "          document.querySelector('#df-1247387b-1138-4b73-93e5-9ae78dcf8aa7 button.colab-df-convert');\n",
              "        buttonEl.style.display =\n",
              "          google.colab.kernel.accessAllowed ? 'block' : 'none';\n",
              "\n",
              "        async function convertToInteractive(key) {\n",
              "          const element = document.querySelector('#df-1247387b-1138-4b73-93e5-9ae78dcf8aa7');\n",
              "          const dataTable =\n",
              "            await google.colab.kernel.invokeFunction('convertToInteractive',\n",
              "                                                     [key], {});\n",
              "          if (!dataTable) return;\n",
              "\n",
              "          const docLinkHtml = 'Like what you see? Visit the ' +\n",
              "            '<a target=\"_blank\" href=https://colab.research.google.com/notebooks/data_table.ipynb>data table notebook</a>'\n",
              "            + ' to learn more about interactive tables.';\n",
              "          element.innerHTML = '';\n",
              "          dataTable['output_type'] = 'display_data';\n",
              "          await google.colab.output.renderOutput(dataTable, element);\n",
              "          const docLink = document.createElement('div');\n",
              "          docLink.innerHTML = docLinkHtml;\n",
              "          element.appendChild(docLink);\n",
              "        }\n",
              "      </script>\n",
              "    </div>\n",
              "  </div>\n",
              "  "
            ]
          },
          "metadata": {},
          "execution_count": 13
        }
      ],
      "source": [
        "test_df.describe()"
      ]
    },
    {
      "cell_type": "markdown",
      "metadata": {
        "id": "uCUWaawpuZXU"
      },
      "source": [
        "# Preprocessing and Exploratory Data Analysis (EDA)"
      ]
    },
    {
      "cell_type": "markdown",
      "source": [
        "Histograms for Has Detections which shows how many 0s and 1s are there in the column"
      ],
      "metadata": {
        "id": "ZhptO8uUeogv"
      }
    },
    {
      "cell_type": "code",
      "execution_count": null,
      "metadata": {
        "id": "woXjZNJRDSeh",
        "colab": {
          "base_uri": "https://localhost:8080/",
          "height": 282
        },
        "outputId": "1a81c592-2157-481c-98e9-c48fbc61b9fe"
      },
      "outputs": [
        {
          "output_type": "execute_result",
          "data": {
            "text/plain": [
              "<matplotlib.axes._subplots.AxesSubplot at 0x7fd595b7fa50>"
            ]
          },
          "metadata": {},
          "execution_count": 14
        },
        {
          "output_type": "display_data",
          "data": {
            "text/plain": [
              "<Figure size 432x288 with 1 Axes>"
            ],
            "image/png": "[encoded data removed]"
          },
          "metadata": {
            "needs_background": "light"
          }
        }
      ],
      "source": [
        "train_df['HasDetections'].hist()"
      ]
    },
    {
      "cell_type": "markdown",
      "source": [
        "# Checking Duplicate Rows"
      ],
      "metadata": {
        "id": "ApBCZmwFMWAf"
      }
    },
    {
      "cell_type": "code",
      "source": [
        "train_df.duplicated().sum()"
      ],
      "metadata": {
        "colab": {
          "base_uri": "https://localhost:8080/"
        },
        "id": "Wh8VJH4jMZ4i",
        "outputId": "d9daff71-2ebf-4b7a-8321-802aa393179d"
      },
      "execution_count": null,
      "outputs": [
        {
          "output_type": "execute_result",
          "data": {
            "text/plain": [
              "0"
            ]
          },
          "metadata": {},
          "execution_count": 15
        }
      ]
    },
    {
      "cell_type": "markdown",
      "metadata": {
        "id": "1_mjaIua7m5X"
      },
      "source": [
        "# Checking for NULL values"
      ]
    },
    {
      "cell_type": "code",
      "execution_count": null,
      "metadata": {
        "id": "U2k3kQKnNj2u",
        "colab": {
          "base_uri": "https://localhost:8080/"
        },
        "outputId": "222fe879-c5a0-4c38-ebac-aa2e0ca36f48"
      },
      "outputs": [
        {
          "output_type": "execute_result",
          "data": {
            "text/plain": [
              "Unnamed: 0                                                 0\n",
              "MachineIdentifier                                          0\n",
              "ProductName                                                0\n",
              "EngineVersion                                              0\n",
              "AppVersion                                                 0\n",
              "AvSigVersion                                               0\n",
              "IsBeta                                                     0\n",
              "RtpStateBitfield                                        5157\n",
              "IsSxsPassiveMode                                           0\n",
              "DefaultBrowsersIdentifier                            1358403\n",
              "AVProductStatesIdentifier                               5895\n",
              "AVProductsInstalled                                     5895\n",
              "AVProductsEnabled                                       5895\n",
              "HasTpm                                                     0\n",
              "CountryIdentifier                                          0\n",
              "CityIdentifier                                         51877\n",
              "OrganizationIdentifier                                441283\n",
              "GeoNameIdentifier                                         37\n",
              "LocaleEnglishNameIdentifier                                0\n",
              "Platform                                                   0\n",
              "Processor                                                  0\n",
              "OsVer                                                      0\n",
              "OsBuild                                                    0\n",
              "OsSuite                                                    0\n",
              "OsPlatformSubRelease                                       0\n",
              "OsBuildLab                                                 5\n",
              "SkuEdition                                                 0\n",
              "IsProtected                                             5869\n",
              "AutoSampleOptIn                                            0\n",
              "PuaMode                                              1427109\n",
              "SMode                                                  85621\n",
              "IeVerIdentifier                                         9400\n",
              "SmartScreen                                           508245\n",
              "Firewall                                               14637\n",
              "UacLuaenable                                            1729\n",
              "Census_MDC2FormFactor                                      0\n",
              "Census_DeviceFamily                                        0\n",
              "Census_OEMNameIdentifier                               15389\n",
              "Census_OEMModelIdentifier                              16394\n",
              "Census_ProcessorCoreCount                               6590\n",
              "Census_ProcessorManufacturerIdentifier                  6591\n",
              "Census_ProcessorModelIdentifier                         6600\n",
              "Census_ProcessorClass                                1421703\n",
              "Census_PrimaryDiskTotalCapacity                         8330\n",
              "Census_PrimaryDiskTypeName                              2077\n",
              "Census_SystemVolumeTotalCapacity                        8329\n",
              "Census_HasOpticalDiskDrive                                 0\n",
              "Census_TotalPhysicalRAM                                12695\n",
              "Census_ChassisTypeName                                   100\n",
              "Census_InternalPrimaryDiagonalDisplaySizeInInches       7476\n",
              "Census_InternalPrimaryDisplayResolutionHorizontal       7450\n",
              "Census_InternalPrimaryDisplayResolutionVertical         7450\n",
              "Census_PowerPlatformRoleName                              10\n",
              "Census_InternalBatteryType                           1014565\n",
              "Census_InternalBatteryNumberOfCharges                  42807\n",
              "Census_OSVersion                                           0\n",
              "Census_OSArchitecture                                      0\n",
              "Census_OSBranch                                            0\n",
              "Census_OSBuildNumber                                       0\n",
              "Census_OSBuildRevision                                     0\n",
              "Census_OSEdition                                           0\n",
              "Census_OSSkuName                                           0\n",
              "Census_OSInstallTypeName                                   0\n",
              "Census_OSInstallLanguageIdentifier                      9643\n",
              "Census_OSUILocaleIdentifier                                0\n",
              "Census_OSWUAutoUpdateOptionsName                           0\n",
              "Census_IsPortableOperatingSystem                           0\n",
              "Census_GenuineStateName                                    0\n",
              "Census_ActivationChannel                                   0\n",
              "Census_IsFlightingInternal                           1185858\n",
              "Census_IsFlightsDisabled                               25605\n",
              "Census_FlightRing                                          0\n",
              "Census_ThresholdOptIn                                 907511\n",
              "Census_FirmwareManufacturerIdentifier                  29310\n",
              "Census_FirmwareVersionIdentifier                       25584\n",
              "Census_IsSecureBootEnabled                                 0\n",
              "Census_IsWIMBootEnabled                               906225\n",
              "Census_IsVirtualDevice                                  2634\n",
              "Census_IsTouchEnabled                                      0\n",
              "Census_IsPenCapable                                        0\n",
              "Census_IsAlwaysOnAlwaysConnectedCapable                11226\n",
              "Wdft_IsGamer                                           48663\n",
              "Wdft_RegionIdentifier                                  48663\n",
              "HasDetections                                              0\n",
              "dtype: int64"
            ]
          },
          "metadata": {},
          "execution_count": 16
        }
      ],
      "source": [
        "train_df.isna().sum()"
      ]
    },
    {
      "cell_type": "code",
      "execution_count": null,
      "metadata": {
        "id": "wq1b-uYiOBYK",
        "colab": {
          "base_uri": "https://localhost:8080/"
        },
        "outputId": "178b7bf9-4f9e-4adf-9fa8-b2c83859f6a0"
      },
      "outputs": [
        {
          "output_type": "execute_result",
          "data": {
            "text/plain": [
              "(1427437, 84)"
            ]
          },
          "metadata": {},
          "execution_count": 17
        }
      ],
      "source": [
        "train_df.shape"
      ]
    },
    {
      "cell_type": "markdown",
      "metadata": {
        "id": "k8dKrZf97PKH"
      },
      "source": [
        "## Removing columns with NULL value > 500000 of the data in the training data set"
      ]
    },
    {
      "cell_type": "code",
      "execution_count": null,
      "metadata": {
        "id": "jBVbv2vtU0SE"
      },
      "outputs": [],
      "source": [
        "list_of_high_null_value_columns = []"
      ]
    },
    {
      "cell_type": "code",
      "execution_count": null,
      "metadata": {
        "id": "ELX3Sb558bIJ"
      },
      "outputs": [],
      "source": [
        "for col in train_df.columns:\n",
        "  if(train_df[col].isna().sum() > 500000):\n",
        "    list_of_high_null_value_columns.append(col);"
      ]
    },
    {
      "cell_type": "markdown",
      "source": [
        "Histograms for columns having high missing values"
      ],
      "metadata": {
        "id": "LhzIopjvfYPn"
      }
    },
    {
      "cell_type": "code",
      "source": [
        "nulls = {}\n",
        "for col in list_of_high_null_value_columns:\n",
        "    nulls[col] = train_df[col].isna().sum() \n",
        "# plt.bar(nulls.values(), nulls.keys(),color = 'g')\n",
        "plt.bar(nulls.keys(), nulls.values())\n",
        "\n",
        "nulls"
      ],
      "metadata": {
        "colab": {
          "base_uri": "https://localhost:8080/",
          "height": 416
        },
        "id": "6Z_mTdHrKKwR",
        "outputId": "5084d133-e404-4037-de40-6b45720e7a4e"
      },
      "execution_count": null,
      "outputs": [
        {
          "output_type": "execute_result",
          "data": {
            "text/plain": [
              "{'DefaultBrowsersIdentifier': 1358403,\n",
              " 'PuaMode': 1427109,\n",
              " 'SmartScreen': 508245,\n",
              " 'Census_ProcessorClass': 1421703,\n",
              " 'Census_InternalBatteryType': 1014565,\n",
              " 'Census_IsFlightingInternal': 1185858,\n",
              " 'Census_ThresholdOptIn': 907511,\n",
              " 'Census_IsWIMBootEnabled': 906225}"
            ]
          },
          "metadata": {},
          "execution_count": 20
        },
        {
          "output_type": "display_data",
          "data": {
            "text/plain": [
              "<Figure size 432x288 with 1 Axes>"
            ],
            "image/png": "[encoded data removed]"
          },
          "metadata": {
            "needs_background": "light"
          }
        }
      ]
    },
    {
      "cell_type": "code",
      "execution_count": null,
      "metadata": {
        "id": "5m-ClCT9U6yI"
      },
      "outputs": [],
      "source": [
        "train_df.drop(axis=\"columns\", labels=list_of_high_null_value_columns, inplace=True) \n",
        "test_df.drop(axis=\"columns\", labels=list_of_high_null_value_columns, inplace=True) "
      ]
    },
    {
      "cell_type": "code",
      "execution_count": null,
      "metadata": {
        "id": "r0HIPE8XNICa",
        "colab": {
          "base_uri": "https://localhost:8080/"
        },
        "outputId": "114861b1-71a3-426c-f0fb-eb91fa212459"
      },
      "outputs": [
        {
          "output_type": "execute_result",
          "data": {
            "text/plain": [
              "(1427437, 76)"
            ]
          },
          "metadata": {},
          "execution_count": 22
        }
      ],
      "source": [
        "train_df.shape"
      ]
    },
    {
      "cell_type": "code",
      "source": [
        "train_df.drop(labels = 'MachineIdentifier',axis = 'columns',inplace = True)"
      ],
      "metadata": {
        "id": "HO_D7VRPV6Ud"
      },
      "execution_count": null,
      "outputs": []
    },
    {
      "cell_type": "code",
      "execution_count": null,
      "metadata": {
        "id": "5PM8cqR6Sw4P",
        "colab": {
          "base_uri": "https://localhost:8080/"
        },
        "outputId": "a01b201c-705a-4ebf-bc22-42adde0b3ba2"
      },
      "outputs": [
        {
          "output_type": "execute_result",
          "data": {
            "text/plain": [
              "Unnamed: 0                                             int64\n",
              "ProductName                                           object\n",
              "EngineVersion                                         object\n",
              "AppVersion                                            object\n",
              "AvSigVersion                                          object\n",
              "IsBeta                                                 int64\n",
              "RtpStateBitfield                                     float64\n",
              "IsSxsPassiveMode                                       int64\n",
              "AVProductStatesIdentifier                            float64\n",
              "AVProductsInstalled                                  float64\n",
              "AVProductsEnabled                                    float64\n",
              "HasTpm                                                 int64\n",
              "CountryIdentifier                                      int64\n",
              "CityIdentifier                                       float64\n",
              "OrganizationIdentifier                               float64\n",
              "GeoNameIdentifier                                    float64\n",
              "LocaleEnglishNameIdentifier                            int64\n",
              "Platform                                              object\n",
              "Processor                                             object\n",
              "OsVer                                                 object\n",
              "OsBuild                                                int64\n",
              "OsSuite                                                int64\n",
              "OsPlatformSubRelease                                  object\n",
              "OsBuildLab                                            object\n",
              "SkuEdition                                            object\n",
              "IsProtected                                          float64\n",
              "AutoSampleOptIn                                        int64\n",
              "SMode                                                float64\n",
              "IeVerIdentifier                                      float64\n",
              "Firewall                                             float64\n",
              "UacLuaenable                                         float64\n",
              "Census_MDC2FormFactor                                 object\n",
              "Census_DeviceFamily                                   object\n",
              "Census_OEMNameIdentifier                             float64\n",
              "Census_OEMModelIdentifier                            float64\n",
              "Census_ProcessorCoreCount                            float64\n",
              "Census_ProcessorManufacturerIdentifier               float64\n",
              "Census_ProcessorModelIdentifier                      float64\n",
              "Census_PrimaryDiskTotalCapacity                      float64\n",
              "Census_PrimaryDiskTypeName                            object\n",
              "Census_SystemVolumeTotalCapacity                     float64\n",
              "Census_HasOpticalDiskDrive                             int64\n",
              "Census_TotalPhysicalRAM                              float64\n",
              "Census_ChassisTypeName                                object\n",
              "Census_InternalPrimaryDiagonalDisplaySizeInInches    float64\n",
              "Census_InternalPrimaryDisplayResolutionHorizontal    float64\n",
              "Census_InternalPrimaryDisplayResolutionVertical      float64\n",
              "Census_PowerPlatformRoleName                          object\n",
              "Census_InternalBatteryNumberOfCharges                float64\n",
              "Census_OSVersion                                      object\n",
              "Census_OSArchitecture                                 object\n",
              "Census_OSBranch                                       object\n",
              "Census_OSBuildNumber                                   int64\n",
              "Census_OSBuildRevision                                 int64\n",
              "Census_OSEdition                                      object\n",
              "Census_OSSkuName                                      object\n",
              "Census_OSInstallTypeName                              object\n",
              "Census_OSInstallLanguageIdentifier                   float64\n",
              "Census_OSUILocaleIdentifier                            int64\n",
              "Census_OSWUAutoUpdateOptionsName                      object\n",
              "Census_IsPortableOperatingSystem                       int64\n",
              "Census_GenuineStateName                               object\n",
              "Census_ActivationChannel                              object\n",
              "Census_IsFlightsDisabled                             float64\n",
              "Census_FlightRing                                     object\n",
              "Census_FirmwareManufacturerIdentifier                float64\n",
              "Census_FirmwareVersionIdentifier                     float64\n",
              "Census_IsSecureBootEnabled                             int64\n",
              "Census_IsVirtualDevice                               float64\n",
              "Census_IsTouchEnabled                                  int64\n",
              "Census_IsPenCapable                                    int64\n",
              "Census_IsAlwaysOnAlwaysConnectedCapable              float64\n",
              "Wdft_IsGamer                                         float64\n",
              "Wdft_RegionIdentifier                                float64\n",
              "HasDetections                                          int64\n",
              "dtype: object"
            ]
          },
          "metadata": {},
          "execution_count": 24
        }
      ],
      "source": [
        "train_df.dtypes"
      ]
    },
    {
      "cell_type": "code",
      "execution_count": null,
      "metadata": {
        "id": "u83GD9nvS4qy"
      },
      "outputs": [],
      "source": [
        "sel_obj_cols = list(train_df.select_dtypes(include='object'))\n",
        "# for col in sel_obj_cols :\n",
        "#   print(col + \": Null values count : \"+ str(train_df[col].isna().sum()) + \" Unique count : \" + str(len(train_df[col].unique())))"
      ]
    },
    {
      "cell_type": "markdown",
      "metadata": {
        "id": "2OvOw7kGvoxz"
      },
      "source": [
        "# Filling Missing Values\n"
      ]
    },
    {
      "cell_type": "markdown",
      "metadata": {
        "id": "t35I70qp7GnZ"
      },
      "source": [
        "Filling missing values of data type : object with mode()"
      ]
    },
    {
      "cell_type": "code",
      "execution_count": null,
      "metadata": {
        "id": "7dbfMSia1XWT"
      },
      "outputs": [],
      "source": [
        "for col in sel_obj_cols:\n",
        "  train_df[col].fillna(train_df[col].mode().iloc[0], inplace = True)\n",
        "  test_df[col].fillna(test_df[col].mode().iloc[0], inplace = True)\n"
      ]
    },
    {
      "cell_type": "code",
      "source": [
        "test_df.isna().sum()"
      ],
      "metadata": {
        "colab": {
          "base_uri": "https://localhost:8080/"
        },
        "id": "cn2BWtwKRAmq",
        "outputId": "004ca976-f737-4a28-9629-7167daf33251"
      },
      "execution_count": null,
      "outputs": [
        {
          "output_type": "execute_result",
          "data": {
            "text/plain": [
              "Unnamed: 0                                                0\n",
              "MachineIdentifier                                         0\n",
              "ProductName                                               0\n",
              "EngineVersion                                             0\n",
              "AppVersion                                                0\n",
              "AvSigVersion                                              0\n",
              "IsBeta                                                    0\n",
              "RtpStateBitfield                                       1286\n",
              "IsSxsPassiveMode                                          0\n",
              "AVProductStatesIdentifier                              1456\n",
              "AVProductsInstalled                                    1456\n",
              "AVProductsEnabled                                      1456\n",
              "HasTpm                                                    0\n",
              "CountryIdentifier                                         0\n",
              "CityIdentifier                                        13049\n",
              "OrganizationIdentifier                               110418\n",
              "GeoNameIdentifier                                        10\n",
              "LocaleEnglishNameIdentifier                               0\n",
              "Platform                                                  0\n",
              "Processor                                                 0\n",
              "OsVer                                                     0\n",
              "OsBuild                                                   0\n",
              "OsSuite                                                   0\n",
              "OsPlatformSubRelease                                      0\n",
              "OsBuildLab                                                0\n",
              "SkuEdition                                                0\n",
              "IsProtected                                            1441\n",
              "AutoSampleOptIn                                           0\n",
              "SMode                                                 21615\n",
              "IeVerIdentifier                                        2331\n",
              "Firewall                                               3694\n",
              "UacLuaenable                                            438\n",
              "Census_MDC2FormFactor                                     0\n",
              "Census_DeviceFamily                                       0\n",
              "Census_OEMNameIdentifier                               3831\n",
              "Census_OEMModelIdentifier                              4106\n",
              "Census_ProcessorCoreCount                              1636\n",
              "Census_ProcessorManufacturerIdentifier                 1636\n",
              "Census_ProcessorModelIdentifier                        1636\n",
              "Census_PrimaryDiskTotalCapacity                        2087\n",
              "Census_PrimaryDiskTypeName                                0\n",
              "Census_SystemVolumeTotalCapacity                       2086\n",
              "Census_HasOpticalDiskDrive                                0\n",
              "Census_TotalPhysicalRAM                                3216\n",
              "Census_ChassisTypeName                                    0\n",
              "Census_InternalPrimaryDiagonalDisplaySizeInInches      1889\n",
              "Census_InternalPrimaryDisplayResolutionHorizontal      1883\n",
              "Census_InternalPrimaryDisplayResolutionVertical        1883\n",
              "Census_PowerPlatformRoleName                              0\n",
              "Census_InternalBatteryNumberOfCharges                 10509\n",
              "Census_OSVersion                                          0\n",
              "Census_OSArchitecture                                     0\n",
              "Census_OSBranch                                           0\n",
              "Census_OSBuildNumber                                      0\n",
              "Census_OSBuildRevision                                    0\n",
              "Census_OSEdition                                          0\n",
              "Census_OSSkuName                                          0\n",
              "Census_OSInstallTypeName                                  0\n",
              "Census_OSInstallLanguageIdentifier                     2362\n",
              "Census_OSUILocaleIdentifier                               0\n",
              "Census_OSWUAutoUpdateOptionsName                          0\n",
              "Census_IsPortableOperatingSystem                          0\n",
              "Census_GenuineStateName                                   0\n",
              "Census_ActivationChannel                                  0\n",
              "Census_IsFlightsDisabled                               6406\n",
              "Census_FlightRing                                         0\n",
              "Census_FirmwareManufacturerIdentifier                  7260\n",
              "Census_FirmwareVersionIdentifier                       6285\n",
              "Census_IsSecureBootEnabled                                0\n",
              "Census_IsVirtualDevice                                  640\n",
              "Census_IsTouchEnabled                                     0\n",
              "Census_IsPenCapable                                       0\n",
              "Census_IsAlwaysOnAlwaysConnectedCapable                2739\n",
              "Wdft_IsGamer                                          11879\n",
              "Wdft_RegionIdentifier                                 11879\n",
              "dtype: int64"
            ]
          },
          "metadata": {},
          "execution_count": 27
        }
      ]
    },
    {
      "cell_type": "markdown",
      "metadata": {
        "id": "0x1e7fQa7YLO"
      },
      "source": [
        "Checking Null value count"
      ]
    },
    {
      "cell_type": "code",
      "execution_count": null,
      "metadata": {
        "id": "bV-PqxYH7cOw"
      },
      "outputs": [],
      "source": [
        "sel_number_cols = list(train_df.select_dtypes(include='number'))\n",
        "\n",
        "for col in sel_number_cols:\n",
        "  train_df[col].fillna(train_df[col].mean(),inplace = True)\n",
        "  if(col != 'HasDetections'):\n",
        "    test_df[col].fillna(test_df[col].mean(),inplace = True)"
      ]
    },
    {
      "cell_type": "markdown",
      "metadata": {
        "id": "m3QqsKtz9Npo"
      },
      "source": [
        "# Label Encoding "
      ]
    },
    {
      "cell_type": "code",
      "execution_count": null,
      "metadata": {
        "id": "TOeFKVf18Neg"
      },
      "outputs": [],
      "source": [
        "label_encoder = LabelEncoder()\n",
        "\n",
        "for col in sel_obj_cols:\n",
        "  train_df[col] = label_encoder.fit_transform(train_df[col])\n",
        "  test_df[col] = label_encoder.fit_transform(test_df[col])\n",
        "  "
      ]
    },
    {
      "cell_type": "markdown",
      "metadata": {
        "id": "kt98XpwGFhHX"
      },
      "source": [
        "# Removing Outliers"
      ]
    },
    {
      "cell_type": "code",
      "execution_count": null,
      "metadata": {
        "id": "WWyIDOipZLNf",
        "colab": {
          "base_uri": "https://localhost:8080/",
          "height": 352
        },
        "outputId": "ba6a531a-2931-423b-ec99-f6bcd0c62c32"
      },
      "outputs": [
        {
          "output_type": "stream",
          "name": "stderr",
          "text": [
            "/usr/local/lib/python3.7/dist-packages/seaborn/_decorators.py:43: FutureWarning: Pass the following variable as a keyword arg: x. From version 0.12, the only valid positional argument will be `data`, and passing other arguments without an explicit keyword will result in an error or misinterpretation.\n",
            "  FutureWarning\n"
          ]
        },
        {
          "output_type": "execute_result",
          "data": {
            "text/plain": [
              "<matplotlib.axes._subplots.AxesSubplot at 0x7fd595a8a2d0>"
            ]
          },
          "metadata": {},
          "execution_count": 30
        },
        {
          "output_type": "display_data",
          "data": {
            "text/plain": [
              "<Figure size 432x288 with 1 Axes>"
            ],
            "image/png": "[encoded data removed]"
          },
          "metadata": {
            "needs_background": "light"
          }
        }
      ],
      "source": [
        "sns.boxplot(train_df['Census_TotalPhysicalRAM'])"
      ]
    },
    {
      "cell_type": "code",
      "execution_count": null,
      "metadata": {
        "id": "UoCa1b_6aEvr",
        "colab": {
          "base_uri": "https://localhost:8080/",
          "height": 297
        },
        "outputId": "d8f7ee2f-ea35-4903-88c9-e15c9fa83447"
      },
      "outputs": [
        {
          "output_type": "execute_result",
          "data": {
            "text/plain": [
              "<matplotlib.axes._subplots.AxesSubplot at 0x7fd595bb2f90>"
            ]
          },
          "metadata": {},
          "execution_count": 31
        },
        {
          "output_type": "display_data",
          "data": {
            "text/plain": [
              "<Figure size 432x288 with 1 Axes>"
            ],
            "image/png": "[encoded data removed]"
          },
          "metadata": {
            "needs_background": "light"
          }
        }
      ],
      "source": [
        "ram = train_df['Census_TotalPhysicalRAM'].copy()\n",
        "mean_ram = ram.mean()\n",
        "std_ram = ram.std()\n",
        "z_score_ram = (ram - mean_ram)/std_ram\n",
        "filtered_entries_ram = (np.abs(z_score_ram) <= 3)\n",
        "# print(filtered_entries_ram)\n",
        "ram = ram[filtered_entries_ram]\n",
        "sns.boxplot(x = ram)"
      ]
    },
    {
      "cell_type": "code",
      "execution_count": null,
      "metadata": {
        "id": "66CiTV4RFety"
      },
      "outputs": [],
      "source": [
        "means = train_df.mean()\n",
        "standard_deviation = train_df.std()\n",
        "z_scores = (train_df - means)/standard_deviation\n",
        "good = (np.abs(z_scores) <= 3)\n",
        "filtered_entries = (np.abs(z_scores) <= 3).all(axis=1)\n",
        "\n",
        "\n"
      ]
    },
    {
      "cell_type": "code",
      "source": [
        "# train_df = train_df[filtered_entries]"
      ],
      "metadata": {
        "id": "hhNeZTAlHurx"
      },
      "execution_count": null,
      "outputs": []
    },
    {
      "cell_type": "markdown",
      "metadata": {
        "id": "egl2RNjARLx6"
      },
      "source": [
        "Handling outliers by bringing them into Inter Quartile Range(IQR)\n"
      ]
    },
    {
      "cell_type": "markdown",
      "source": [
        "IQR describes the middle 50% of values when ordered from lowest to highest "
      ],
      "metadata": {
        "id": "ov922iEXgned"
      }
    },
    {
      "cell_type": "code",
      "execution_count": null,
      "metadata": {
        "id": "4U7ok45wPzj-"
      },
      "outputs": [],
      "source": [
        "\n",
        "for column in train_df.columns:\n",
        "    train_df.loc[z_scores[column] > 3, column] = means[column] + 3*standard_deviation[column]\n",
        "    train_df.loc[z_scores[column] < -3, column] = means[column] - 3*standard_deviation[column]\n",
        "    if(col!= 'HasDetections'):\n",
        "      test_df.loc[z_scores[column] < -3, column] = means[column] - 3*standard_deviation[column]\n",
        "      test_df.loc[z_scores[column] > 3, column] = means[column] + 3*standard_deviation[column]\n"
      ]
    },
    {
      "cell_type": "markdown",
      "source": [
        "###Heatmap to check the correlation"
      ],
      "metadata": {
        "id": "bGnvXHZVANqK"
      }
    },
    {
      "cell_type": "code",
      "execution_count": null,
      "metadata": {
        "id": "Lyuk_In7dLMQ"
      },
      "outputs": [],
      "source": [
        "sns.heatmap(train_df.corr(), annot=True)\n",
        "# train_df.dtypes"
      ]
    },
    {
      "cell_type": "markdown",
      "source": [
        "##Fitting logistic regression model"
      ],
      "metadata": {
        "id": "nzgMSg0mhFNT"
      }
    },
    {
      "cell_type": "code",
      "execution_count": null,
      "metadata": {
        "id": "qLAeIN-fHOUj"
      },
      "outputs": [],
      "source": [
        "from sklearn.linear_model import LogisticRegression"
      ]
    },
    {
      "cell_type": "code",
      "source": [
        "model = LogisticRegression(max_iter= 1000)\n",
        "x_train = train_df.copy()\n",
        "x_train.drop(inplace = True,labels = ['HasDetections'], axis = 'columns')\n",
        "y_train = train_df['HasDetections'].copy().astype('int64')\n"
      ],
      "metadata": {
        "id": "hWLgqfCtCDSN"
      },
      "execution_count": null,
      "outputs": []
    },
    {
      "cell_type": "code",
      "source": [
        "y_train = y_train.astype('int16')\n",
        "model.fit(x_train,y_train)"
      ],
      "metadata": {
        "colab": {
          "base_uri": "https://localhost:8080/"
        },
        "id": "z5Wtv0_J8jOh",
        "outputId": "aaf5fd9c-52a8-48bd-b883-1b6a5e505508"
      },
      "execution_count": null,
      "outputs": [
        {
          "output_type": "execute_result",
          "data": {
            "text/plain": [
              "LogisticRegression(max_iter=1000)"
            ]
          },
          "metadata": {},
          "execution_count": 40
        }
      ]
    },
    {
      "cell_type": "code",
      "source": [
        "gc.collect()"
      ],
      "metadata": {
        "colab": {
          "base_uri": "https://localhost:8080/"
        },
        "id": "STDdCpp0DzDp",
        "outputId": "2126fc53-0f1d-440b-9758-e92d9679f63c"
      },
      "execution_count": null,
      "outputs": [
        {
          "output_type": "execute_result",
          "data": {
            "text/plain": [
              "3006"
            ]
          },
          "metadata": {},
          "execution_count": 41
        }
      ]
    },
    {
      "cell_type": "code",
      "source": [
        "y_pred = model.predict(x_train)\n",
        "print(\"F1 score \" + str(f1_score(y_train, y_pred)*100))\n",
        "print(\"Accuracy score :\" + str(accuracy_score(y_train,y_pred)*100))\n"
      ],
      "metadata": {
        "colab": {
          "base_uri": "https://localhost:8080/"
        },
        "id": "op0FyYVDCz-7",
        "outputId": "ff7d2cfd-6fdb-43f5-fa0a-7874f8946f6f"
      },
      "execution_count": null,
      "outputs": [
        {
          "output_type": "stream",
          "name": "stdout",
          "text": [
            "F1 score 62.113446655900674\n",
            "Accuracy score :59.50294128567496\n"
          ]
        }
      ]
    },
    {
      "cell_type": "code",
      "source": [
        "gc.collect()"
      ],
      "metadata": {
        "colab": {
          "base_uri": "https://localhost:8080/"
        },
        "id": "n3Crs2nDDwcd",
        "outputId": "53de265b-b1c0-4cee-ae7b-fbeaf481916c"
      },
      "execution_count": null,
      "outputs": [
        {
          "output_type": "execute_result",
          "data": {
            "text/plain": [
              "44"
            ]
          },
          "metadata": {},
          "execution_count": 43
        }
      ]
    },
    {
      "cell_type": "code",
      "source": [
        "test_df.columns\n"
      ],
      "metadata": {
        "colab": {
          "base_uri": "https://localhost:8080/"
        },
        "id": "EHVetVi--q93",
        "outputId": "7920973d-cd44-4bc5-ebf7-2a9ab3aa9ba5"
      },
      "execution_count": null,
      "outputs": [
        {
          "output_type": "execute_result",
          "data": {
            "text/plain": [
              "Index(['AVProductStatesIdentifier', 'AVProductsEnabled', 'AVProductsInstalled',\n",
              "       'AppVersion', 'AutoSampleOptIn', 'AvSigVersion',\n",
              "       'Census_ActivationChannel', 'Census_ChassisTypeName',\n",
              "       'Census_DeviceFamily', 'Census_FirmwareManufacturerIdentifier',\n",
              "       'Census_FirmwareVersionIdentifier', 'Census_FlightRing',\n",
              "       'Census_GenuineStateName', 'Census_HasOpticalDiskDrive',\n",
              "       'Census_InternalBatteryNumberOfCharges',\n",
              "       'Census_InternalPrimaryDiagonalDisplaySizeInInches',\n",
              "       'Census_InternalPrimaryDisplayResolutionHorizontal',\n",
              "       'Census_InternalPrimaryDisplayResolutionVertical',\n",
              "       'Census_IsAlwaysOnAlwaysConnectedCapable', 'Census_IsFlightsDisabled',\n",
              "       'Census_IsPenCapable', 'Census_IsPortableOperatingSystem',\n",
              "       'Census_IsSecureBootEnabled', 'Census_IsTouchEnabled',\n",
              "       'Census_IsVirtualDevice', 'Census_MDC2FormFactor',\n",
              "       'Census_OEMModelIdentifier', 'Census_OEMNameIdentifier',\n",
              "       'Census_OSArchitecture', 'Census_OSBranch', 'Census_OSBuildNumber',\n",
              "       'Census_OSBuildRevision', 'Census_OSEdition',\n",
              "       'Census_OSInstallLanguageIdentifier', 'Census_OSInstallTypeName',\n",
              "       'Census_OSSkuName', 'Census_OSUILocaleIdentifier', 'Census_OSVersion',\n",
              "       'Census_OSWUAutoUpdateOptionsName', 'Census_PowerPlatformRoleName',\n",
              "       'Census_PrimaryDiskTotalCapacity', 'Census_PrimaryDiskTypeName',\n",
              "       'Census_ProcessorCoreCount', 'Census_ProcessorManufacturerIdentifier',\n",
              "       'Census_ProcessorModelIdentifier', 'Census_SystemVolumeTotalCapacity',\n",
              "       'Census_TotalPhysicalRAM', 'CityIdentifier', 'CountryIdentifier',\n",
              "       'EngineVersion', 'Firewall', 'GeoNameIdentifier', 'HasDetections',\n",
              "       'HasTpm', 'IeVerIdentifier', 'IsBeta', 'IsProtected',\n",
              "       'IsSxsPassiveMode', 'LocaleEnglishNameIdentifier', 'MachineIdentifier',\n",
              "       'OrganizationIdentifier', 'OsBuild', 'OsBuildLab',\n",
              "       'OsPlatformSubRelease', 'OsSuite', 'OsVer', 'Platform', 'Processor',\n",
              "       'ProductName', 'RtpStateBitfield', 'SMode', 'SkuEdition',\n",
              "       'UacLuaenable', 'Unnamed: 0', 'Wdft_IsGamer', 'Wdft_RegionIdentifier'],\n",
              "      dtype='object')"
            ]
          },
          "metadata": {},
          "execution_count": 44
        }
      ]
    },
    {
      "cell_type": "code",
      "source": [
        "submission = pd.DataFrame({\"Id\":test_df['MachineIdentifier']})\n",
        "\n",
        "# print(x_train.columns)\n",
        "# print(test_df.columns))"
      ],
      "metadata": {
        "id": "OhO4HdiUPzIA"
      },
      "execution_count": null,
      "outputs": []
    },
    {
      "cell_type": "code",
      "source": [
        "test_df.drop(inplace=True , labels = 'HasDetections',axis = 1)\n"
      ],
      "metadata": {
        "id": "wmeJxTsCUPpc"
      },
      "execution_count": null,
      "outputs": []
    },
    {
      "cell_type": "code",
      "source": [
        "test_df.drop(inplace=True , labels = 'MachineIdentifier',axis = 1)\n"
      ],
      "metadata": {
        "id": "dQMt0hLJY-Mg"
      },
      "execution_count": null,
      "outputs": []
    },
    {
      "cell_type": "code",
      "source": [
        "predictions = model.predict(test_df)\n",
        "submission[\"Expected\"] = predictions"
      ],
      "metadata": {
        "colab": {
          "base_uri": "https://localhost:8080/"
        },
        "id": "f2tyiuEFYeYD",
        "outputId": "52bc5c6f-8f95-4396-bda9-3f777c078e32"
      },
      "execution_count": null,
      "outputs": [
        {
          "output_type": "stream",
          "name": "stderr",
          "text": [
            "/usr/local/lib/python3.7/dist-packages/sklearn/base.py:493: FutureWarning: The feature names should match those that were passed during fit. Starting version 1.2, an error will be raised.\n",
            "Feature names must be in the same order as they were in fit.\n",
            "\n",
            "  warnings.warn(message, FutureWarning)\n"
          ]
        }
      ]
    },
    {
      "cell_type": "code",
      "source": [
        "submission.to_csv(\"sample_submission.csv\", index=False)"
      ],
      "metadata": {
        "id": "PB8D2jYRQpiE"
      },
      "execution_count": null,
      "outputs": []
    },
    {
      "cell_type": "markdown",
      "metadata": {
        "id": "bLl3D5iZHDKg"
      },
      "source": [
        "# Pricipal Component Analysis (PCA)"
      ]
    },
    {
      "cell_type": "code",
      "source": [
        "gc.collect()"
      ],
      "metadata": {
        "colab": {
          "base_uri": "https://localhost:8080/"
        },
        "id": "r312xHHPjiO-",
        "outputId": "3ff2cf19-9292-4a77-8e87-1d0ce7173d67"
      },
      "execution_count": null,
      "outputs": [
        {
          "output_type": "execute_result",
          "data": {
            "text/plain": [
              "22"
            ]
          },
          "metadata": {},
          "execution_count": 50
        }
      ]
    },
    {
      "cell_type": "code",
      "execution_count": null,
      "metadata": {
        "id": "28a4g9v58oyy",
        "colab": {
          "base_uri": "https://localhost:8080/"
        },
        "outputId": "be7187cd-ddad-4669-861a-78075df688a8"
      },
      "outputs": [
        {
          "output_type": "stream",
          "name": "stderr",
          "text": [
            "/usr/local/lib/python3.7/dist-packages/sklearn/base.py:493: FutureWarning: The feature names should match those that were passed during fit. Starting version 1.2, an error will be raised.\n",
            "Feature names must be in the same order as they were in fit.\n",
            "\n",
            "  warnings.warn(message, FutureWarning)\n"
          ]
        },
        {
          "output_type": "stream",
          "name": "stdout",
          "text": [
            "56.742840329540996\n"
          ]
        }
      ],
      "source": [
        "from sklearn.decomposition import PCA\n",
        "\n",
        "# Assuming 10 components\n",
        "pca = PCA(n_components=10)\n",
        "df3 = pd.DataFrame(pca.fit_transform(x_train))\n",
        "test_df = pd.DataFrame(pca.transform(test_df))\n",
        "x_pca_train,x_pca_test,y_pca_train,y_pca_test = train_test_split(df3,y_train, test_size=0.2,random_state=0)\n",
        "model.fit(x_pca_train,y_pca_train)\n",
        "print(model.score(x_pca_test,y_pca_test)*100)"
      ]
    },
    {
      "cell_type": "code",
      "source": [
        "print(test_df.columns)\n",
        "# test_df = pd.DataFrame(pca.transform(test_df))\n",
        "y_test = model.predict(test_df)"
      ],
      "metadata": {
        "colab": {
          "base_uri": "https://localhost:8080/"
        },
        "id": "G_52LJycj_YX",
        "outputId": "8ae972e6-18c7-4e29-8000-1354c7bcfeed"
      },
      "execution_count": null,
      "outputs": [
        {
          "output_type": "stream",
          "name": "stdout",
          "text": [
            "RangeIndex(start=0, stop=10, step=1)\n"
          ]
        }
      ]
    },
    {
      "cell_type": "code",
      "source": [
        "submission[\"Expected\"] = y_test"
      ],
      "metadata": {
        "id": "VlF2DLDA4JJD"
      },
      "execution_count": null,
      "outputs": []
    },
    {
      "cell_type": "code",
      "source": [
        "submission.to_csv(\"sample_submission_2.csv\", index=False)"
      ],
      "metadata": {
        "id": "SZhbKza14SL4"
      },
      "execution_count": null,
      "outputs": []
    },
    {
      "cell_type": "code",
      "source": [
        "print(model.score(x_pca_train,y_pca_train)*100)"
      ],
      "metadata": {
        "colab": {
          "base_uri": "https://localhost:8080/"
        },
        "id": "RhokrwNJHmDu",
        "outputId": "e38addd2-5273-49cb-ac88-74af58e91f0f"
      },
      "execution_count": null,
      "outputs": [
        {
          "output_type": "stream",
          "name": "stdout",
          "text": [
            "56.95525807194542\n"
          ]
        }
      ]
    },
    {
      "cell_type": "code",
      "source": [
        "gc.collect()"
      ],
      "metadata": {
        "colab": {
          "base_uri": "https://localhost:8080/"
        },
        "id": "Uw9B3G8iG_iu",
        "outputId": "cce970c9-cd1a-4042-c5fa-efc075e66ac7"
      },
      "execution_count": null,
      "outputs": [
        {
          "output_type": "execute_result",
          "data": {
            "text/plain": [
              "44"
            ]
          },
          "metadata": {},
          "execution_count": 56
        }
      ]
    },
    {
      "cell_type": "code",
      "source": [],
      "metadata": {
        "id": "ton5sJDHM76r"
      },
      "execution_count": null,
      "outputs": []
    }
  ],
  "metadata": {
    "colab": {
      "collapsed_sections": [],
      "provenance": [],
      "include_colab_link": true
    },
    "kernelspec": {
      "display_name": "Python 3",
      "name": "python3"
    },
    "language_info": {
      "name": "python"
    }
  },
  "nbformat": 4,
  "nbformat_minor": 0
}